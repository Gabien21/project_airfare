{
 "cells": [
  {
   "cell_type": "code",
   "execution_count": 1,
   "metadata": {},
   "outputs": [],
   "source": [
    "import pandas as pd\n",
    "import numpy as np\n",
    "import os\n",
    "RAW_PATH = \"../data/raw\""
   ]
  },
  {
   "cell_type": "markdown",
   "metadata": {},
   "source": [
    "# Analyze flight fare files"
   ]
  },
  {
   "cell_type": "markdown",
   "metadata": {},
   "source": [
    "> File flight_prices_SGN_to_HAN.csv"
   ]
  },
  {
   "cell_type": "code",
   "execution_count": 2,
   "metadata": {},
   "outputs": [
    {
     "data": {
      "text/html": [
       "<div>\n",
       "<style scoped>\n",
       "    .dataframe tbody tr th:only-of-type {\n",
       "        vertical-align: middle;\n",
       "    }\n",
       "\n",
       "    .dataframe tbody tr th {\n",
       "        vertical-align: top;\n",
       "    }\n",
       "\n",
       "    .dataframe thead th {\n",
       "        text-align: right;\n",
       "    }\n",
       "</style>\n",
       "<table border=\"1\" class=\"dataframe\">\n",
       "  <thead>\n",
       "    <tr style=\"text-align: right;\">\n",
       "      <th></th>\n",
       "      <th>Departure Location</th>\n",
       "      <th>Departure Time</th>\n",
       "      <th>Arrival Location</th>\n",
       "      <th>Arrival Time</th>\n",
       "      <th>Flight Duration</th>\n",
       "      <th>Aircraft Type</th>\n",
       "      <th>Ticket Price</th>\n",
       "      <th>Passenger Type</th>\n",
       "      <th>Number of Tickets</th>\n",
       "      <th>Price per Ticket</th>\n",
       "      <th>Taxes &amp; Fees</th>\n",
       "      <th>Total Price</th>\n",
       "      <th>Carry-on Baggage</th>\n",
       "      <th>Checked Baggage</th>\n",
       "      <th>Refund Policy</th>\n",
       "      <th>Scrape Time</th>\n",
       "    </tr>\n",
       "  </thead>\n",
       "  <tbody>\n",
       "    <tr>\n",
       "      <th>0</th>\n",
       "      <td>TP Hồ Chí Minh (SGN)</td>\n",
       "      <td>23:05, 01/04/2025</td>\n",
       "      <td>Hà Nội (HAN)</td>\n",
       "      <td>01:15, 02/04/2025</td>\n",
       "      <td>2 giờ 10 phút</td>\n",
       "      <td>Máy bay: Airbus A321</td>\n",
       "      <td>Bamboo Airways  Chuyến bay: QH290   Hạng vé : ...</td>\n",
       "      <td>Người lớn</td>\n",
       "      <td>1</td>\n",
       "      <td>1,249,000 VNĐ</td>\n",
       "      <td>804,000 VNĐ</td>\n",
       "      <td>2,053,000 VNĐ</td>\n",
       "      <td>7kg</td>\n",
       "      <td>Vui lòng chọn ở bước tiếp theo</td>\n",
       "      <td>['- Áp dụng hoàn vé mất phí', '- Áp dụng đổi v...</td>\n",
       "      <td>2025-03-31 08:55:44</td>\n",
       "    </tr>\n",
       "    <tr>\n",
       "      <th>1</th>\n",
       "      <td>TP Hồ Chí Minh (SGN)</td>\n",
       "      <td>05:10, 01/04/2025</td>\n",
       "      <td>Hà Nội (HAN)</td>\n",
       "      <td>07:20, 01/04/2025</td>\n",
       "      <td>2 giờ 10 phút</td>\n",
       "      <td>Máy bay: Airbus A321</td>\n",
       "      <td>Bamboo Airways  Chuyến bay: QH202   Hạng vé : ...</td>\n",
       "      <td>Người lớn</td>\n",
       "      <td>1</td>\n",
       "      <td>1,419,000 VNĐ</td>\n",
       "      <td>818,000 VNĐ</td>\n",
       "      <td>2,237,000 VNĐ</td>\n",
       "      <td>7kg</td>\n",
       "      <td>Vui lòng chọn ở bước tiếp theo</td>\n",
       "      <td>['- Áp dụng hoàn vé mất phí', '- Áp dụng đổi v...</td>\n",
       "      <td>2025-03-31 08:55:45</td>\n",
       "    </tr>\n",
       "    <tr>\n",
       "      <th>2</th>\n",
       "      <td>TP Hồ Chí Minh (SGN)</td>\n",
       "      <td>18:45, 01/04/2025</td>\n",
       "      <td>Hà Nội (HAN)</td>\n",
       "      <td>20:55, 01/04/2025</td>\n",
       "      <td>2 giờ 10 phút</td>\n",
       "      <td>Máy bay: Airbus A320</td>\n",
       "      <td>Bamboo Airways  Chuyến bay: QH268   Hạng vé : ...</td>\n",
       "      <td>Người lớn</td>\n",
       "      <td>1</td>\n",
       "      <td>1,419,000 VNĐ</td>\n",
       "      <td>818,000 VNĐ</td>\n",
       "      <td>2,237,000 VNĐ</td>\n",
       "      <td>7kg</td>\n",
       "      <td>Vui lòng chọn ở bước tiếp theo</td>\n",
       "      <td>['- Áp dụng hoàn vé mất phí', '- Áp dụng đổi v...</td>\n",
       "      <td>2025-03-31 08:55:46</td>\n",
       "    </tr>\n",
       "    <tr>\n",
       "      <th>3</th>\n",
       "      <td>TP Hồ Chí Minh (SGN)</td>\n",
       "      <td>20:00, 01/04/2025</td>\n",
       "      <td>Hà Nội (HAN)</td>\n",
       "      <td>22:10, 01/04/2025</td>\n",
       "      <td>2 giờ 10 phút</td>\n",
       "      <td>Máy bay: Airbus A320</td>\n",
       "      <td>Vietjet Air  Chuyến bay: VJ1176   Hạng vé : I1...</td>\n",
       "      <td>Người lớn</td>\n",
       "      <td>1</td>\n",
       "      <td>1,440,000 VNĐ</td>\n",
       "      <td>820,000 VNĐ</td>\n",
       "      <td>2,260,000 VNĐ</td>\n",
       "      <td>7kg</td>\n",
       "      <td>Vui lòng chọn ở bước tiếp theo</td>\n",
       "      <td>['- Áp dụng đổi vé mất phí', '- Áp dụng hoàn v...</td>\n",
       "      <td>2025-03-31 08:55:46</td>\n",
       "    </tr>\n",
       "    <tr>\n",
       "      <th>4</th>\n",
       "      <td>TP Hồ Chí Minh (SGN)</td>\n",
       "      <td>20:05, 01/04/2025</td>\n",
       "      <td>Hà Nội (HAN)</td>\n",
       "      <td>22:10, 01/04/2025</td>\n",
       "      <td>2 giờ 5 phút</td>\n",
       "      <td>Máy bay: Airbus A321</td>\n",
       "      <td>Vietjet Air  Chuyến bay: VJ1160   Hạng vé : I1...</td>\n",
       "      <td>Người lớn</td>\n",
       "      <td>1</td>\n",
       "      <td>1,440,000 VNĐ</td>\n",
       "      <td>820,000 VNĐ</td>\n",
       "      <td>2,260,000 VNĐ</td>\n",
       "      <td>7kg</td>\n",
       "      <td>Vui lòng chọn ở bước tiếp theo</td>\n",
       "      <td>['- Áp dụng đổi vé mất phí', '- Áp dụng hoàn v...</td>\n",
       "      <td>2025-03-31 08:55:47</td>\n",
       "    </tr>\n",
       "  </tbody>\n",
       "</table>\n",
       "</div>"
      ],
      "text/plain": [
       "     Departure Location     Departure Time Arrival Location  \\\n",
       "0  TP Hồ Chí Minh (SGN)  23:05, 01/04/2025     Hà Nội (HAN)   \n",
       "1  TP Hồ Chí Minh (SGN)  05:10, 01/04/2025     Hà Nội (HAN)   \n",
       "2  TP Hồ Chí Minh (SGN)  18:45, 01/04/2025     Hà Nội (HAN)   \n",
       "3  TP Hồ Chí Minh (SGN)  20:00, 01/04/2025     Hà Nội (HAN)   \n",
       "4  TP Hồ Chí Minh (SGN)  20:05, 01/04/2025     Hà Nội (HAN)   \n",
       "\n",
       "        Arrival Time Flight Duration         Aircraft Type  \\\n",
       "0  01:15, 02/04/2025   2 giờ 10 phút  Máy bay: Airbus A321   \n",
       "1  07:20, 01/04/2025   2 giờ 10 phút  Máy bay: Airbus A321   \n",
       "2  20:55, 01/04/2025   2 giờ 10 phút  Máy bay: Airbus A320   \n",
       "3  22:10, 01/04/2025   2 giờ 10 phút  Máy bay: Airbus A320   \n",
       "4  22:10, 01/04/2025    2 giờ 5 phút  Máy bay: Airbus A321   \n",
       "\n",
       "                                        Ticket Price Passenger Type  \\\n",
       "0  Bamboo Airways  Chuyến bay: QH290   Hạng vé : ...      Người lớn   \n",
       "1  Bamboo Airways  Chuyến bay: QH202   Hạng vé : ...      Người lớn   \n",
       "2  Bamboo Airways  Chuyến bay: QH268   Hạng vé : ...      Người lớn   \n",
       "3  Vietjet Air  Chuyến bay: VJ1176   Hạng vé : I1...      Người lớn   \n",
       "4  Vietjet Air  Chuyến bay: VJ1160   Hạng vé : I1...      Người lớn   \n",
       "\n",
       "   Number of Tickets Price per Ticket Taxes & Fees    Total Price  \\\n",
       "0                  1    1,249,000 VNĐ  804,000 VNĐ  2,053,000 VNĐ   \n",
       "1                  1    1,419,000 VNĐ  818,000 VNĐ  2,237,000 VNĐ   \n",
       "2                  1    1,419,000 VNĐ  818,000 VNĐ  2,237,000 VNĐ   \n",
       "3                  1    1,440,000 VNĐ  820,000 VNĐ  2,260,000 VNĐ   \n",
       "4                  1    1,440,000 VNĐ  820,000 VNĐ  2,260,000 VNĐ   \n",
       "\n",
       "  Carry-on Baggage                 Checked Baggage  \\\n",
       "0              7kg  Vui lòng chọn ở bước tiếp theo   \n",
       "1              7kg  Vui lòng chọn ở bước tiếp theo   \n",
       "2              7kg  Vui lòng chọn ở bước tiếp theo   \n",
       "3              7kg  Vui lòng chọn ở bước tiếp theo   \n",
       "4              7kg  Vui lòng chọn ở bước tiếp theo   \n",
       "\n",
       "                                       Refund Policy          Scrape Time  \n",
       "0  ['- Áp dụng hoàn vé mất phí', '- Áp dụng đổi v...  2025-03-31 08:55:44  \n",
       "1  ['- Áp dụng hoàn vé mất phí', '- Áp dụng đổi v...  2025-03-31 08:55:45  \n",
       "2  ['- Áp dụng hoàn vé mất phí', '- Áp dụng đổi v...  2025-03-31 08:55:46  \n",
       "3  ['- Áp dụng đổi vé mất phí', '- Áp dụng hoàn v...  2025-03-31 08:55:46  \n",
       "4  ['- Áp dụng đổi vé mất phí', '- Áp dụng hoàn v...  2025-03-31 08:55:47  "
      ]
     },
     "execution_count": 2,
     "metadata": {},
     "output_type": "execute_result"
    }
   ],
   "source": [
    "df = pd.read_csv(os.path.join(RAW_PATH, \"flight_prices_SGN_to_HAN.csv\"))\n",
    "df.head(5)"
   ]
  },
  {
   "cell_type": "code",
   "execution_count": 3,
   "metadata": {},
   "outputs": [
    {
     "data": {
      "text/plain": [
       "(7534, 16)"
      ]
     },
     "execution_count": 3,
     "metadata": {},
     "output_type": "execute_result"
    }
   ],
   "source": [
    "df.shape"
   ]
  },
  {
   "cell_type": "code",
   "execution_count": 4,
   "metadata": {},
   "outputs": [
    {
     "data": {
      "text/plain": [
       "Index(['Departure Location', 'Departure Time', 'Arrival Location',\n",
       "       'Arrival Time', 'Flight Duration', 'Aircraft Type', 'Ticket Price',\n",
       "       'Passenger Type', 'Number of Tickets', 'Price per Ticket',\n",
       "       'Taxes & Fees', 'Total Price', 'Carry-on Baggage', 'Checked Baggage',\n",
       "       'Refund Policy', 'Scrape Time'],\n",
       "      dtype='object')"
      ]
     },
     "execution_count": 4,
     "metadata": {},
     "output_type": "execute_result"
    }
   ],
   "source": [
    "df.columns"
   ]
  },
  {
   "cell_type": "code",
   "execution_count": 5,
   "metadata": {},
   "outputs": [
    {
     "data": {
      "text/plain": [
       "Departure Location    object\n",
       "Departure Time        object\n",
       "Arrival Location      object\n",
       "Arrival Time          object\n",
       "Flight Duration       object\n",
       "Aircraft Type         object\n",
       "Ticket Price          object\n",
       "Passenger Type        object\n",
       "Number of Tickets      int64\n",
       "Price per Ticket      object\n",
       "Taxes & Fees          object\n",
       "Total Price           object\n",
       "Carry-on Baggage      object\n",
       "Checked Baggage       object\n",
       "Refund Policy         object\n",
       "Scrape Time           object\n",
       "dtype: object"
      ]
     },
     "execution_count": 5,
     "metadata": {},
     "output_type": "execute_result"
    }
   ],
   "source": [
    "df.dtypes"
   ]
  },
  {
   "cell_type": "code",
   "execution_count": 6,
   "metadata": {},
   "outputs": [
    {
     "data": {
      "text/plain": [
       "Departure Location     0\n",
       "Departure Time         0\n",
       "Arrival Location       0\n",
       "Arrival Time           0\n",
       "Flight Duration        0\n",
       "Aircraft Type          0\n",
       "Ticket Price           0\n",
       "Passenger Type         0\n",
       "Number of Tickets      0\n",
       "Price per Ticket       0\n",
       "Taxes & Fees           0\n",
       "Total Price            0\n",
       "Carry-on Baggage       0\n",
       "Checked Baggage        0\n",
       "Refund Policy         91\n",
       "Scrape Time            0\n",
       "dtype: int64"
      ]
     },
     "execution_count": 6,
     "metadata": {},
     "output_type": "execute_result"
    }
   ],
   "source": [
    "df.isnull().sum()"
   ]
  },
  {
   "cell_type": "markdown",
   "metadata": {},
   "source": [
    "> File flight_prices_SGN_to_DAD.csv"
   ]
  },
  {
   "cell_type": "code",
   "execution_count": 7,
   "metadata": {},
   "outputs": [
    {
     "data": {
      "text/html": [
       "<div>\n",
       "<style scoped>\n",
       "    .dataframe tbody tr th:only-of-type {\n",
       "        vertical-align: middle;\n",
       "    }\n",
       "\n",
       "    .dataframe tbody tr th {\n",
       "        vertical-align: top;\n",
       "    }\n",
       "\n",
       "    .dataframe thead th {\n",
       "        text-align: right;\n",
       "    }\n",
       "</style>\n",
       "<table border=\"1\" class=\"dataframe\">\n",
       "  <thead>\n",
       "    <tr style=\"text-align: right;\">\n",
       "      <th></th>\n",
       "      <th>Departure Location</th>\n",
       "      <th>Departure Time</th>\n",
       "      <th>Arrival Location</th>\n",
       "      <th>Arrival Time</th>\n",
       "      <th>Flight Duration</th>\n",
       "      <th>Aircraft Type</th>\n",
       "      <th>Ticket Price</th>\n",
       "      <th>Passenger Type</th>\n",
       "      <th>Number of Tickets</th>\n",
       "      <th>Price per Ticket</th>\n",
       "      <th>Taxes &amp; Fees</th>\n",
       "      <th>Total Price</th>\n",
       "      <th>Carry-on Baggage</th>\n",
       "      <th>Checked Baggage</th>\n",
       "      <th>Refund Policy</th>\n",
       "      <th>Scrape Time</th>\n",
       "    </tr>\n",
       "  </thead>\n",
       "  <tbody>\n",
       "    <tr>\n",
       "      <th>0</th>\n",
       "      <td>TP Hồ Chí Minh (SGN)</td>\n",
       "      <td>05:00, 01/04/2025</td>\n",
       "      <td>Đà Nẵng (DAD)</td>\n",
       "      <td>06:20, 01/04/2025</td>\n",
       "      <td>1 giờ 20 phút</td>\n",
       "      <td>320B</td>\n",
       "      <td>Vietjet Air  Chuyến bay: VJ1622   Hạng vé : Z1...</td>\n",
       "      <td>Người lớn</td>\n",
       "      <td>1</td>\n",
       "      <td>490,000 VNĐ</td>\n",
       "      <td>744,000 VNĐ</td>\n",
       "      <td>1,234,000 VNĐ</td>\n",
       "      <td>7kg</td>\n",
       "      <td>Vui lòng chọn ở bước tiếp theo</td>\n",
       "      <td>['- Áp dụng đổi vé mất phí', '- Áp dụng hoàn v...</td>\n",
       "      <td>2025-03-31 08:55:34</td>\n",
       "    </tr>\n",
       "    <tr>\n",
       "      <th>1</th>\n",
       "      <td>TP Hồ Chí Minh (SGN)</td>\n",
       "      <td>05:30, 01/04/2025</td>\n",
       "      <td>Đà Nẵng (DAD)</td>\n",
       "      <td>06:50, 01/04/2025</td>\n",
       "      <td>1 giờ 20 phút</td>\n",
       "      <td>320B</td>\n",
       "      <td>Vietjet Air  Chuyến bay: VJ1620   Hạng vé : Z1...</td>\n",
       "      <td>Người lớn</td>\n",
       "      <td>1</td>\n",
       "      <td>490,000 VNĐ</td>\n",
       "      <td>744,000 VNĐ</td>\n",
       "      <td>1,234,000 VNĐ</td>\n",
       "      <td>7kg</td>\n",
       "      <td>Vui lòng chọn ở bước tiếp theo</td>\n",
       "      <td>['- Áp dụng đổi vé mất phí', '- Áp dụng hoàn v...</td>\n",
       "      <td>2025-03-31 08:55:34</td>\n",
       "    </tr>\n",
       "    <tr>\n",
       "      <th>2</th>\n",
       "      <td>TP Hồ Chí Minh (SGN)</td>\n",
       "      <td>21:05, 01/04/2025</td>\n",
       "      <td>Đà Nẵng (DAD)</td>\n",
       "      <td>22:25, 01/04/2025</td>\n",
       "      <td>1 giờ 20 phút</td>\n",
       "      <td>Máy bay: Airbus A321</td>\n",
       "      <td>Vietravel Airlines  Chuyến bay: VU680   Hạng v...</td>\n",
       "      <td>Người lớn</td>\n",
       "      <td>1</td>\n",
       "      <td>588,000 VNĐ</td>\n",
       "      <td>773,000 VNĐ</td>\n",
       "      <td>1,361,000 VNĐ</td>\n",
       "      <td>7kg</td>\n",
       "      <td>Vui lòng chọn ở bước tiếp theo</td>\n",
       "      <td>NaN</td>\n",
       "      <td>2025-03-31 08:55:35</td>\n",
       "    </tr>\n",
       "    <tr>\n",
       "      <th>3</th>\n",
       "      <td>TP Hồ Chí Minh (SGN)</td>\n",
       "      <td>06:50, 01/04/2025</td>\n",
       "      <td>Đà Nẵng (DAD)</td>\n",
       "      <td>08:10, 01/04/2025</td>\n",
       "      <td>1 giờ 20 phút</td>\n",
       "      <td>Máy bay: Airbus A321</td>\n",
       "      <td>Vietjet Air  Chuyến bay: VJ1632   Hạng vé : W1...</td>\n",
       "      <td>Người lớn</td>\n",
       "      <td>1</td>\n",
       "      <td>610,000 VNĐ</td>\n",
       "      <td>753,000 VNĐ</td>\n",
       "      <td>1,363,000 VNĐ</td>\n",
       "      <td>7kg</td>\n",
       "      <td>Vui lòng chọn ở bước tiếp theo</td>\n",
       "      <td>['- Áp dụng đổi vé mất phí', '- Áp dụng hoàn v...</td>\n",
       "      <td>2025-03-31 08:55:36</td>\n",
       "    </tr>\n",
       "    <tr>\n",
       "      <th>4</th>\n",
       "      <td>TP Hồ Chí Minh (SGN)</td>\n",
       "      <td>06:30, 01/04/2025</td>\n",
       "      <td>Đà Nẵng (DAD)</td>\n",
       "      <td>07:55, 01/04/2025</td>\n",
       "      <td>1 giờ 25 phút</td>\n",
       "      <td>Máy bay: Airbus A320</td>\n",
       "      <td>Bamboo Airways  Chuyến bay: QH150   Hạng vé : ...</td>\n",
       "      <td>Người lớn</td>\n",
       "      <td>1</td>\n",
       "      <td>639,000 VNĐ</td>\n",
       "      <td>756,000 VNĐ</td>\n",
       "      <td>1,395,000 VNĐ</td>\n",
       "      <td>7kg</td>\n",
       "      <td>Vui lòng chọn ở bước tiếp theo</td>\n",
       "      <td>['- Áp dụng hoàn vé mất phí', '- Áp dụng đổi v...</td>\n",
       "      <td>2025-03-31 08:55:36</td>\n",
       "    </tr>\n",
       "  </tbody>\n",
       "</table>\n",
       "</div>"
      ],
      "text/plain": [
       "     Departure Location     Departure Time Arrival Location  \\\n",
       "0  TP Hồ Chí Minh (SGN)  05:00, 01/04/2025    Đà Nẵng (DAD)   \n",
       "1  TP Hồ Chí Minh (SGN)  05:30, 01/04/2025    Đà Nẵng (DAD)   \n",
       "2  TP Hồ Chí Minh (SGN)  21:05, 01/04/2025    Đà Nẵng (DAD)   \n",
       "3  TP Hồ Chí Minh (SGN)  06:50, 01/04/2025    Đà Nẵng (DAD)   \n",
       "4  TP Hồ Chí Minh (SGN)  06:30, 01/04/2025    Đà Nẵng (DAD)   \n",
       "\n",
       "        Arrival Time Flight Duration         Aircraft Type  \\\n",
       "0  06:20, 01/04/2025   1 giờ 20 phút                  320B   \n",
       "1  06:50, 01/04/2025   1 giờ 20 phút                  320B   \n",
       "2  22:25, 01/04/2025   1 giờ 20 phút  Máy bay: Airbus A321   \n",
       "3  08:10, 01/04/2025   1 giờ 20 phút  Máy bay: Airbus A321   \n",
       "4  07:55, 01/04/2025   1 giờ 25 phút  Máy bay: Airbus A320   \n",
       "\n",
       "                                        Ticket Price Passenger Type  \\\n",
       "0  Vietjet Air  Chuyến bay: VJ1622   Hạng vé : Z1...      Người lớn   \n",
       "1  Vietjet Air  Chuyến bay: VJ1620   Hạng vé : Z1...      Người lớn   \n",
       "2  Vietravel Airlines  Chuyến bay: VU680   Hạng v...      Người lớn   \n",
       "3  Vietjet Air  Chuyến bay: VJ1632   Hạng vé : W1...      Người lớn   \n",
       "4  Bamboo Airways  Chuyến bay: QH150   Hạng vé : ...      Người lớn   \n",
       "\n",
       "   Number of Tickets Price per Ticket Taxes & Fees    Total Price  \\\n",
       "0                  1      490,000 VNĐ  744,000 VNĐ  1,234,000 VNĐ   \n",
       "1                  1      490,000 VNĐ  744,000 VNĐ  1,234,000 VNĐ   \n",
       "2                  1      588,000 VNĐ  773,000 VNĐ  1,361,000 VNĐ   \n",
       "3                  1      610,000 VNĐ  753,000 VNĐ  1,363,000 VNĐ   \n",
       "4                  1      639,000 VNĐ  756,000 VNĐ  1,395,000 VNĐ   \n",
       "\n",
       "  Carry-on Baggage                 Checked Baggage  \\\n",
       "0              7kg  Vui lòng chọn ở bước tiếp theo   \n",
       "1              7kg  Vui lòng chọn ở bước tiếp theo   \n",
       "2              7kg  Vui lòng chọn ở bước tiếp theo   \n",
       "3              7kg  Vui lòng chọn ở bước tiếp theo   \n",
       "4              7kg  Vui lòng chọn ở bước tiếp theo   \n",
       "\n",
       "                                       Refund Policy          Scrape Time  \n",
       "0  ['- Áp dụng đổi vé mất phí', '- Áp dụng hoàn v...  2025-03-31 08:55:34  \n",
       "1  ['- Áp dụng đổi vé mất phí', '- Áp dụng hoàn v...  2025-03-31 08:55:34  \n",
       "2                                                NaN  2025-03-31 08:55:35  \n",
       "3  ['- Áp dụng đổi vé mất phí', '- Áp dụng hoàn v...  2025-03-31 08:55:36  \n",
       "4  ['- Áp dụng hoàn vé mất phí', '- Áp dụng đổi v...  2025-03-31 08:55:36  "
      ]
     },
     "execution_count": 7,
     "metadata": {},
     "output_type": "execute_result"
    }
   ],
   "source": [
    "df = pd.read_csv(os.path.join(RAW_PATH, \"flight_prices_SGN_to_DAD.csv\"))\n",
    "df.head(5)"
   ]
  },
  {
   "cell_type": "code",
   "execution_count": 8,
   "metadata": {},
   "outputs": [
    {
     "data": {
      "text/plain": [
       "(4645, 16)"
      ]
     },
     "execution_count": 8,
     "metadata": {},
     "output_type": "execute_result"
    }
   ],
   "source": [
    "df.shape"
   ]
  },
  {
   "cell_type": "code",
   "execution_count": 9,
   "metadata": {},
   "outputs": [
    {
     "data": {
      "text/plain": [
       "Index(['Departure Location', 'Departure Time', 'Arrival Location',\n",
       "       'Arrival Time', 'Flight Duration', 'Aircraft Type', 'Ticket Price',\n",
       "       'Passenger Type', 'Number of Tickets', 'Price per Ticket',\n",
       "       'Taxes & Fees', 'Total Price', 'Carry-on Baggage', 'Checked Baggage',\n",
       "       'Refund Policy', 'Scrape Time'],\n",
       "      dtype='object')"
      ]
     },
     "execution_count": 9,
     "metadata": {},
     "output_type": "execute_result"
    }
   ],
   "source": [
    "df.columns"
   ]
  },
  {
   "cell_type": "code",
   "execution_count": 10,
   "metadata": {},
   "outputs": [
    {
     "data": {
      "text/plain": [
       "Departure Location    object\n",
       "Departure Time        object\n",
       "Arrival Location      object\n",
       "Arrival Time          object\n",
       "Flight Duration       object\n",
       "Aircraft Type         object\n",
       "Ticket Price          object\n",
       "Passenger Type        object\n",
       "Number of Tickets      int64\n",
       "Price per Ticket      object\n",
       "Taxes & Fees          object\n",
       "Total Price           object\n",
       "Carry-on Baggage      object\n",
       "Checked Baggage       object\n",
       "Refund Policy         object\n",
       "Scrape Time           object\n",
       "dtype: object"
      ]
     },
     "execution_count": 10,
     "metadata": {},
     "output_type": "execute_result"
    }
   ],
   "source": [
    "df.dtypes"
   ]
  },
  {
   "cell_type": "code",
   "execution_count": 11,
   "metadata": {},
   "outputs": [
    {
     "data": {
      "text/plain": [
       "Departure Location     0\n",
       "Departure Time         0\n",
       "Arrival Location       0\n",
       "Arrival Time           0\n",
       "Flight Duration        0\n",
       "Aircraft Type          0\n",
       "Ticket Price           0\n",
       "Passenger Type         0\n",
       "Number of Tickets      0\n",
       "Price per Ticket       0\n",
       "Taxes & Fees           0\n",
       "Total Price            0\n",
       "Carry-on Baggage       0\n",
       "Checked Baggage        0\n",
       "Refund Policy         91\n",
       "Scrape Time            0\n",
       "dtype: int64"
      ]
     },
     "execution_count": 11,
     "metadata": {},
     "output_type": "execute_result"
    }
   ],
   "source": [
    "df.isnull().sum()"
   ]
  },
  {
   "cell_type": "markdown",
   "metadata": {},
   "source": [
    "# Analyze airline info files"
   ]
  },
  {
   "cell_type": "markdown",
   "metadata": {},
   "source": [
    "> File vna_general_info.txt"
   ]
  },
  {
   "cell_type": "code",
   "execution_count": 12,
   "metadata": {},
   "outputs": [
    {
     "data": {
      "text/plain": [
       "['Name: Vietnam Airlines\\n',\n",
       " 'Phone: 011 84 8 3832 0320\\n',\n",
       " 'Address: Headquarters: 200 Nguyen Son Str., Long Bien District, Hanoi Vietnam\\n',\n",
       " 'Website: http://www.vietnamairlines.com/\\n',\n",
       " 'Average Rating: 3.5\\n',\n",
       " 'Total review: 3.5\\n',\n",
       " 'Popular mention: [da nang, ho chi minh, internal flights, phu quoc, lotus lounge, premium economy, domestic terminal, short flight, noodles, fish, flat bed, full service, through immigration, plenty of leg room, fruit, saigon, sgn, dreamliner, trang, hoi, english, visas, slippers, city, beds, sector]\\n',\n",
       " \"Attributes: {'Legroom': '3.5 of 5 bubbles', 'Seat comfort': '3.5 of 5 bubbles', 'In-flight entertainment (WiFi, TV, movies)': '3.0 of 5 bubbles', 'Onboard Experience': '3.5 of 5 bubbles', 'Customer service': '3.5 of 5 bubbles', 'Value for money': '4.0 of 5 bubbles', 'Cleanliness': '4.0 of 5 bubbles', 'Check-in and boarding': '4.0 of 5 bubbles', 'Food and beverage': '3.5 of 5 bubbles'}\\n\",\n",
       " \"Total rating: {'Excellent': '2,552', 'Good': '3,001', 'Average': '1,464', 'Poor': '604', 'Terrible': '928'}\\n\",\n",
       " 'Name: Vietnam Airlines\\n',\n",
       " 'Phone: 011 84 8 3832 0320\\n',\n",
       " 'Address: Headquarters: 200 Nguyen Son Str., Long Bien District, Hanoi Vietnam\\n',\n",
       " 'Website: http://www.vietnamairlines.com/\\n',\n",
       " 'Average Rating: 3.5\\n',\n",
       " 'Total review: 3.5\\n',\n",
       " 'Popular mention: [da nang, ho chi minh, internal flights, phu quoc, lotus lounge, premium economy, domestic terminal, short flight, noodles, fish, flat bed, full service, through immigration, plenty of leg room, fruit, saigon, sgn, dreamliner, trang, hoi, english, visas, slippers, city, beds, sector]\\n',\n",
       " \"Attributes: {'Legroom': '3.5 of 5 bubbles', 'Seat comfort': '3.5 of 5 bubbles', 'In-flight entertainment (WiFi, TV, movies)': '3.0 of 5 bubbles', 'Onboard Experience': '3.5 of 5 bubbles', 'Customer service': '3.5 of 5 bubbles', 'Value for money': '4.0 of 5 bubbles', 'Cleanliness': '4.0 of 5 bubbles', 'Check-in and boarding': '4.0 of 5 bubbles', 'Food and beverage': '3.5 of 5 bubbles'}\\n\",\n",
       " \"Total rating: {'Excellent': '2,552', 'Good': '3,001', 'Average': '1,464', 'Poor': '604', 'Terrible': '928'}\\n\",\n",
       " 'Name: Vietnam Airlines\\n',\n",
       " 'Phone: 011 84 8 3832 0320\\n',\n",
       " 'Address: Headquarters: 200 Nguyen Son Str., Long Bien District, Hanoi Vietnam\\n',\n",
       " 'Website: http://www.vietnamairlines.com/\\n',\n",
       " 'Average Rating: 3.5\\n',\n",
       " 'Total review: 3.5\\n',\n",
       " 'Popular mention: [da nang, ho chi minh, internal flights, phu quoc, lotus lounge, premium economy, domestic terminal, short flight, noodles, fish, flat bed, full service, through immigration, plenty of leg room, fruit, saigon, sgn, dreamliner, trang, hoi, english, visas, slippers, city, beds, sector]\\n',\n",
       " \"Attributes: {'Legroom': '3.5 of 5 bubbles', 'Seat comfort': '3.5 of 5 bubbles', 'In-flight entertainment (WiFi, TV, movies)': '3.0 of 5 bubbles', 'Onboard Experience': '3.5 of 5 bubbles', 'Customer service': '3.5 of 5 bubbles', 'Value for money': '4.0 of 5 bubbles', 'Cleanliness': '4.0 of 5 bubbles', 'Check-in and boarding': '4.0 of 5 bubbles', 'Food and beverage': '3.5 of 5 bubbles'}\\n\",\n",
       " \"Total rating: {'Excellent': '2,552', 'Good': '3,001', 'Average': '1,464', 'Poor': '604', 'Terrible': '928'}\\n\",\n",
       " 'Name: Vietnam Airlines\\n',\n",
       " 'Phone: 011 84 8 3832 0320\\n',\n",
       " 'Address: Headquarters: 200 Nguyen Son Str., Long Bien District, Hanoi Vietnam\\n',\n",
       " 'Website: http://www.vietnamairlines.com/\\n',\n",
       " 'Average Rating: 3.5\\n',\n",
       " 'Total review: 3.5\\n',\n",
       " 'Popular mention: [da nang, ho chi minh, internal flights, phu quoc, lotus lounge, premium economy, domestic terminal, short flight, noodles, fish, flat bed, full service, through immigration, plenty of leg room, fruit, saigon, sgn, dreamliner, trang, hoi, english, visas, slippers, city, beds, sector]\\n',\n",
       " \"Attributes: {'Legroom': '3.5 of 5 bubbles', 'Seat comfort': '3.5 of 5 bubbles', 'In-flight entertainment (WiFi, TV, movies)': '3.0 of 5 bubbles', 'Onboard Experience': '3.5 of 5 bubbles', 'Customer service': '3.5 of 5 bubbles', 'Value for money': '4.0 of 5 bubbles', 'Cleanliness': '4.0 of 5 bubbles', 'Check-in and boarding': '4.0 of 5 bubbles', 'Food and beverage': '3.5 of 5 bubbles'}\\n\",\n",
       " \"Total rating: {'Excellent': '2,552', 'Good': '3,001', 'Average': '1,464', 'Poor': '604', 'Terrible': '928'}\\n\",\n",
       " 'Name: Vietnam Airlines\\n',\n",
       " 'Phone: 011 84 8 3832 0320\\n',\n",
       " 'Address: Headquarters: 200 Nguyen Son Str., Long Bien District, Hanoi Vietnam\\n',\n",
       " 'Website: http://www.vietnamairlines.com/\\n',\n",
       " 'Average Rating: 3.5\\n',\n",
       " 'Total review: Reviews (8,549)\\n',\n",
       " 'Popular mention: [da nang, ho chi minh, internal flights, phu quoc, lotus lounge, premium economy, domestic terminal, short flight, noodles, fish, flat bed, full service, through immigration, plenty of leg room, fruit, saigon, sgn, dreamliner, trang, hoi, english, visas, slippers, city, beds, sector]\\n',\n",
       " \"Attributes: {'Legroom': '3.5 of 5 bubbles', 'Seat comfort': '3.5 of 5 bubbles', 'In-flight entertainment (WiFi, TV, movies)': '3.0 of 5 bubbles', 'Onboard Experience': '3.5 of 5 bubbles', 'Customer service': '3.5 of 5 bubbles', 'Value for money': '4.0 of 5 bubbles', 'Cleanliness': '4.0 of 5 bubbles', 'Check-in and boarding': '4.0 of 5 bubbles', 'Food and beverage': '3.5 of 5 bubbles'}\\n\",\n",
       " \"Total rating: {'Excellent': '2,552', 'Good': '3,001', 'Average': '1,464', 'Poor': '604', 'Terrible': '928'}\\n\",\n",
       " 'Name: Vietnam Airlines\\n',\n",
       " 'Phone: 011 84 8 3832 0320\\n',\n",
       " 'Address: Headquarters: 200 Nguyen Son Str., Long Bien District, Hanoi Vietnam\\n',\n",
       " 'Website: http://www.vietnamairlines.com/\\n',\n",
       " 'Average Rating: 3.5\\n',\n",
       " 'Total review: 3.5\\n',\n",
       " 'Popular mention: [da nang, ho chi minh, internal flights, phu quoc, lotus lounge, premium economy, domestic terminal, short flight, noodles, fish, flat bed, full service, through immigration, plenty of leg room, fruit, saigon, sgn, dreamliner, trang, hoi, english, visas, slippers, city, beds, sector]\\n',\n",
       " \"Attributes: {'Legroom': '3.5 of 5 bubbles', 'Seat comfort': '3.5 of 5 bubbles', 'In-flight entertainment (WiFi, TV, movies)': '3.0 of 5 bubbles', 'Onboard Experience': '3.5 of 5 bubbles', 'Customer service': '3.5 of 5 bubbles', 'Value for money': '4.0 of 5 bubbles', 'Cleanliness': '4.0 of 5 bubbles', 'Check-in and boarding': '4.0 of 5 bubbles', 'Food and beverage': '3.5 of 5 bubbles'}\\n\",\n",
       " \"Total rating: {'Excellent': '2,552', 'Good': '3,001', 'Average': '1,464', 'Poor': '604', 'Terrible': '928'}\\n\",\n",
       " 'Name: Vietnam Airlines\\n',\n",
       " 'Phone: 011 84 8 3832 0320\\n',\n",
       " 'Address: Headquarters: 200 Nguyen Son Str., Long Bien District, Hanoi Vietnam\\n',\n",
       " 'Website: http://www.vietnamairlines.com/\\n',\n",
       " 'Average Rating: 3.5\\n',\n",
       " 'Total review: Reviews (8,549)\\n',\n",
       " 'Popular mention: [da nang, ho chi minh, internal flights, phu quoc, lotus lounge, premium economy, domestic terminal, short flight, noodles, fish, flat bed, full service, through immigration, plenty of leg room, fruit, saigon, sgn, dreamliner, trang, hoi, english, visas, slippers, city, beds, sector]\\n',\n",
       " \"Attributes: {'Legroom': '3.5 of 5 bubbles', 'Seat comfort': '3.5 of 5 bubbles', 'In-flight entertainment (WiFi, TV, movies)': '3.0 of 5 bubbles', 'Onboard Experience': '3.5 of 5 bubbles', 'Customer service': '3.5 of 5 bubbles', 'Value for money': '4.0 of 5 bubbles', 'Cleanliness': '4.0 of 5 bubbles', 'Check-in and boarding': '4.0 of 5 bubbles', 'Food and beverage': '3.5 of 5 bubbles'}\\n\",\n",
       " \"Total rating: {'Excellent': '2,552', 'Good': '3,001', 'Average': '1,464', 'Poor': '604', 'Terrible': '928'}\\n\",\n",
       " 'Name: Vietnam Airlines\\n',\n",
       " 'Phone: 011 84 8 3832 0320\\n',\n",
       " 'Address: Headquarters: 200 Nguyen Son Str., Long Bien District, Hanoi Vietnam\\n',\n",
       " 'Website: http://www.vietnamairlines.com/\\n',\n",
       " 'Average Rating: 3.5\\n',\n",
       " 'Total review: Reviews (8,549)\\n',\n",
       " 'Popular mention: [da nang, ho chi minh, internal flights, phu quoc, lotus lounge, premium economy, domestic terminal, short flight, noodles, fish, flat bed, full service, through immigration, plenty of leg room, fruit, saigon, sgn, dreamliner, trang, hoi, english, visas, slippers, city, beds, sector]\\n',\n",
       " \"Attributes: {'Legroom': '3.5 of 5 bubbles', 'Seat comfort': '3.5 of 5 bubbles', 'In-flight entertainment (WiFi, TV, movies)': '3.0 of 5 bubbles', 'Onboard Experience': '3.5 of 5 bubbles', 'Customer service': '3.5 of 5 bubbles', 'Value for money': '4.0 of 5 bubbles', 'Cleanliness': '4.0 of 5 bubbles', 'Check-in and boarding': '4.0 of 5 bubbles', 'Food and beverage': '3.5 of 5 bubbles'}\\n\",\n",
       " \"Total rating: {'Excellent': '2,552', 'Good': '3,001', 'Average': '1,464', 'Poor': '604', 'Terrible': '928'}\\n\",\n",
       " 'Name: Vietnam Airlines\\n',\n",
       " 'Phone: 011 84 8 3832 0320\\n',\n",
       " 'Address: Headquarters: 200 Nguyen Son Str., Long Bien District, Hanoi Vietnam\\n',\n",
       " 'Website: http://www.vietnamairlines.com/\\n',\n",
       " 'Average Rating: 3.5\\n',\n",
       " 'Total review: Reviews (8,552)\\n',\n",
       " 'Popular mention: [da nang, ho chi minh, internal flights, phu quoc, lotus lounge, premium economy, domestic terminal, short flight, noodles, fish, flat bed, full service, through immigration, plenty of leg room, fruit, saigon, sgn, dreamliner, trang, hoi, english, visas, slippers, city, beds, sector]\\n',\n",
       " \"Attributes: {'Legroom': '3.5 of 5 bubbles', 'Seat comfort': '3.5 of 5 bubbles', 'In-flight entertainment (WiFi, TV, movies)': '3.0 of 5 bubbles', 'Onboard Experience': '3.5 of 5 bubbles', 'Customer service': '3.5 of 5 bubbles', 'Value for money': '4.0 of 5 bubbles', 'Cleanliness': '4.0 of 5 bubbles', 'Check-in and boarding': '4.0 of 5 bubbles', 'Food and beverage': '3.5 of 5 bubbles'}\\n\",\n",
       " \"Total rating: {'Excellent': '2,552', 'Good': '3,001', 'Average': '1,464', 'Poor': '604', 'Terrible': '931'}\\n\",\n",
       " 'Name: Vietnam Airlines\\n',\n",
       " 'Phone: 011 84 8 3832 0320\\n',\n",
       " 'Address: Headquarters: 200 Nguyen Son Str., Long Bien District, Hanoi Vietnam\\n',\n",
       " 'Website: http://www.vietnamairlines.com/\\n',\n",
       " 'Average Rating: 3.5\\n',\n",
       " 'Total review: 3.5\\n',\n",
       " 'Popular mention: [da nang, ho chi minh, internal flights, phu quoc, lotus lounge, premium economy, domestic terminal, short flight, noodles, fish, flat bed, full service, through immigration, plenty of leg room, fruit, saigon, sgn, dreamliner, trang, hoi, english, visas, slippers, city, beds, sector]\\n',\n",
       " \"Attributes: {'Legroom': '3.5 of 5 bubbles', 'Seat comfort': '3.5 of 5 bubbles', 'In-flight entertainment (WiFi, TV, movies)': '3.0 of 5 bubbles', 'Onboard Experience': '3.5 of 5 bubbles', 'Customer service': '3.5 of 5 bubbles', 'Value for money': '4.0 of 5 bubbles', 'Cleanliness': '4.0 of 5 bubbles', 'Check-in and boarding': '4.0 of 5 bubbles', 'Food and beverage': '3.5 of 5 bubbles'}\\n\",\n",
       " \"Total rating: {'Excellent': '2,552', 'Good': '3,001', 'Average': '1,464', 'Poor': '604', 'Terrible': '931'}\\n\",\n",
       " 'Name: Vietnam Airlines\\n',\n",
       " 'Phone: 011 84 8 3832 0320\\n',\n",
       " 'Address: Headquarters: 200 Nguyen Son Str., Long Bien District, Hanoi Vietnam\\n',\n",
       " 'Website: http://www.vietnamairlines.com/\\n',\n",
       " 'Average Rating: 3.5\\n',\n",
       " 'Total review: Reviews (8,552)\\n',\n",
       " 'Popular mention: [da nang, ho chi minh, internal flights, phu quoc, lotus lounge, premium economy, domestic terminal, short flight, noodles, fish, flat bed, full service, through immigration, plenty of leg room, fruit, saigon, sgn, dreamliner, trang, hoi, english, visas, slippers, city, beds, sector]\\n',\n",
       " \"Attributes: {'Legroom': '3.5 of 5 bubbles', 'Seat comfort': '3.5 of 5 bubbles', 'In-flight entertainment (WiFi, TV, movies)': '3.0 of 5 bubbles', 'Onboard Experience': '3.5 of 5 bubbles', 'Customer service': '3.5 of 5 bubbles', 'Value for money': '4.0 of 5 bubbles', 'Cleanliness': '4.0 of 5 bubbles', 'Check-in and boarding': '4.0 of 5 bubbles', 'Food and beverage': '3.5 of 5 bubbles'}\\n\",\n",
       " \"Total rating: {'Excellent': '2,552', 'Good': '3,001', 'Average': '1,464', 'Poor': '604', 'Terrible': '931'}\\n\"]"
      ]
     },
     "execution_count": 12,
     "metadata": {},
     "output_type": "execute_result"
    }
   ],
   "source": [
    "with open(os.path.join(RAW_PATH, \"vna_general_info.txt\"), encoding='utf-8') as f:\n",
    "    content = f.readlines()\n",
    "content"
   ]
  },
  {
   "cell_type": "code",
   "execution_count": 13,
   "metadata": {},
   "outputs": [
    {
     "data": {
      "text/plain": [
       "['Name: Vietnam Airlines\\n',\n",
       " 'Phone: 011 84 8 3832 0320\\n',\n",
       " 'Address: Headquarters: 200 Nguyen Son Str., Long Bien District, Hanoi Vietnam\\n',\n",
       " 'Website: http://www.vietnamairlines.com/\\n',\n",
       " 'Average Rating: 3.5\\n',\n",
       " 'Total review: 3.5\\n',\n",
       " 'Popular mention: [da nang, ho chi minh, internal flights, phu quoc, lotus lounge, premium economy, domestic terminal, short flight, noodles, fish, flat bed, full service, through immigration, plenty of leg room, fruit, saigon, sgn, dreamliner, trang, hoi, english, visas, slippers, city, beds, sector]\\n',\n",
       " \"Attributes: {'Legroom': '3.5 of 5 bubbles', 'Seat comfort': '3.5 of 5 bubbles', 'In-flight entertainment (WiFi, TV, movies)': '3.0 of 5 bubbles', 'Onboard Experience': '3.5 of 5 bubbles', 'Customer service': '3.5 of 5 bubbles', 'Value for money': '4.0 of 5 bubbles', 'Cleanliness': '4.0 of 5 bubbles', 'Check-in and boarding': '4.0 of 5 bubbles', 'Food and beverage': '3.5 of 5 bubbles'}\\n\",\n",
       " \"Total rating: {'Excellent': '2,552', 'Good': '3,001', 'Average': '1,464', 'Poor': '604', 'Terrible': '928'}\\n\"]"
      ]
     },
     "execution_count": 13,
     "metadata": {},
     "output_type": "execute_result"
    }
   ],
   "source": [
    "content[:9]"
   ]
  },
  {
   "cell_type": "markdown",
   "metadata": {},
   "source": [
    "> File vj_general_info.txt"
   ]
  },
  {
   "cell_type": "code",
   "execution_count": 14,
   "metadata": {},
   "outputs": [
    {
     "data": {
      "text/plain": [
       "['Name: VietJetAir\\n',\n",
       " 'Phone: 011 84 1900 1886\\n',\n",
       " 'Address: Headquarters: 530 Nhat Tao, District 11, Ho Chi Minh City Vietnam\\n',\n",
       " 'Website: http://www.vietjetair.com/\\n',\n",
       " 'Average Rating: 2.0\\n',\n",
       " 'Total review: Reviews (6,868)\\n',\n",
       " 'Popular mention: [budget airline, chiang rai, low cost airline, bad reviews, low budget]\\n',\n",
       " \"Attributes: {'Legroom': '2.5 of 5 bubbles', 'Seat comfort': '2.5 of 5 bubbles', 'In-flight entertainment (WiFi, TV, movies)': '1.5 of 5 bubbles', 'Onboard Experience': '2.5 of 5 bubbles', 'Customer service': '2.5 of 5 bubbles', 'Value for money': '2.5 of 5 bubbles', 'Cleanliness': '3.0 of 5 bubbles', 'Check-in and boarding': '2.5 of 5 bubbles', 'Food and beverage': '2.0 of 5 bubbles'}\\n\",\n",
       " \"Total rating: {'Excellent': '631', 'Good': '948', 'Average': '731', 'Poor': '572', 'Terrible': '3,986'}\\n\"]"
      ]
     },
     "execution_count": 14,
     "metadata": {},
     "output_type": "execute_result"
    }
   ],
   "source": [
    "with open(os.path.join(RAW_PATH, \"vj_general_info.txt\"), encoding='utf-8') as f:\n",
    "    content = f.readlines()\n",
    "content"
   ]
  },
  {
   "cell_type": "markdown",
   "metadata": {},
   "source": [
    "> File bamboo_general_info.txt"
   ]
  },
  {
   "cell_type": "code",
   "execution_count": 15,
   "metadata": {},
   "outputs": [
    {
     "data": {
      "text/plain": [
       "['Name: Bamboo Airways\\n',\n",
       " 'Phone: 011 84 1900 1166\\n',\n",
       " 'Address: Headquarters: 265 Cau Giay Street, Bamboo Airways Tower, Dich Vong Ward, Cau Giay District, Quy Nhon Vietnam\\n',\n",
       " 'Average Rating: 2.0\\n',\n",
       " 'Total review: Reviews (564)\\n',\n",
       " 'Popular mention: [phu quoc, ho chi minh, seating layout, wouldn t hesitate, food on offer, sandwich, service offered, bad reviews, affordable price, food beverage, from london gatwick, budget airline, light meal, great choice, great value for money, business class passengers, full refund, fish, hot meal, full service, great experience, great customer service, be honest, return journey, doesn t, decoration, sgn, saigon, escort, econ]\\n',\n",
       " \"Attributes: {'Legroom': '3.0 of 5 bubbles', 'Seat comfort': '3.0 of 5 bubbles', 'In-flight entertainment (WiFi, TV, movies)': '2.0 of 5 bubbles', 'Onboard Experience': '3.0 of 5 bubbles', 'Customer service': '2.5 of 5 bubbles', 'Value for money': '3.0 of 5 bubbles', 'Cleanliness': '3.0 of 5 bubbles', 'Check-in and boarding': '3.0 of 5 bubbles', 'Food and beverage': '2.5 of 5 bubbles'}\\n\",\n",
       " \"Total rating: {'Excellent': '111', 'Good': '56', 'Average': '20', 'Poor': '40', 'Terrible': '337'}\\n\"]"
      ]
     },
     "execution_count": 15,
     "metadata": {},
     "output_type": "execute_result"
    }
   ],
   "source": [
    "with open(os.path.join(RAW_PATH, \"bamboo_general_info.txt\"), encoding='utf-8') as f:\n",
    "    content = f.readlines()\n",
    "content"
   ]
  },
  {
   "cell_type": "markdown",
   "metadata": {},
   "source": [
    "# Analyze reviews files"
   ]
  },
  {
   "cell_type": "markdown",
   "metadata": {},
   "source": [
    "> File bamboo_all_reviews_data.csv"
   ]
  },
  {
   "cell_type": "code",
   "execution_count": 16,
   "metadata": {},
   "outputs": [
    {
     "data": {
      "text/html": [
       "<div>\n",
       "<style scoped>\n",
       "    .dataframe tbody tr th:only-of-type {\n",
       "        vertical-align: middle;\n",
       "    }\n",
       "\n",
       "    .dataframe tbody tr th {\n",
       "        vertical-align: top;\n",
       "    }\n",
       "\n",
       "    .dataframe thead th {\n",
       "        text-align: right;\n",
       "    }\n",
       "</style>\n",
       "<table border=\"1\" class=\"dataframe\">\n",
       "  <thead>\n",
       "    <tr style=\"text-align: right;\">\n",
       "      <th></th>\n",
       "      <th>Rating</th>\n",
       "      <th>Title</th>\n",
       "      <th>Full Review</th>\n",
       "      <th>Information</th>\n",
       "      <th>Service Ratings</th>\n",
       "    </tr>\n",
       "  </thead>\n",
       "  <tbody>\n",
       "    <tr>\n",
       "      <th>0</th>\n",
       "      <td>1.0 of 5 bubbles</td>\n",
       "      <td>Don't do it</td>\n",
       "      <td>Never again, 1st and last. \\nFlight was booked...</td>\n",
       "      <td>Date of travel: March 2025</td>\n",
       "      <td>[{'Service Rating': '2.0 of 5 bubbles', 'Servi...</td>\n",
       "    </tr>\n",
       "    <tr>\n",
       "      <th>1</th>\n",
       "      <td>1.0 of 5 bubbles</td>\n",
       "      <td>Used to be good, now terrible.</td>\n",
       "      <td>When this airline first started it was a very ...</td>\n",
       "      <td>Date of travel: March 2025</td>\n",
       "      <td>NaN</td>\n",
       "    </tr>\n",
       "    <tr>\n",
       "      <th>2</th>\n",
       "      <td>1.0 of 5 bubbles</td>\n",
       "      <td>BAD SERVICE; BAD AIRLINE.</td>\n",
       "      <td>My original flight is starting at 15:10 then t...</td>\n",
       "      <td>Date of travel: March 2025</td>\n",
       "      <td>NaN</td>\n",
       "    </tr>\n",
       "    <tr>\n",
       "      <th>3</th>\n",
       "      <td>1.0 of 5 bubbles</td>\n",
       "      <td>Scam airlines - worse than VJ</td>\n",
       "      <td>Scam airline for sure. They make a lot of mone...</td>\n",
       "      <td>Date of travel: March 2025</td>\n",
       "      <td>NaN</td>\n",
       "    </tr>\n",
       "    <tr>\n",
       "      <th>4</th>\n",
       "      <td>1.0 of 5 bubbles</td>\n",
       "      <td>Avoid them</td>\n",
       "      <td>Worst company and customer service. Stay clear...</td>\n",
       "      <td>Date of travel: March 2025</td>\n",
       "      <td>NaN</td>\n",
       "    </tr>\n",
       "  </tbody>\n",
       "</table>\n",
       "</div>"
      ],
      "text/plain": [
       "             Rating                           Title  \\\n",
       "0  1.0 of 5 bubbles                     Don't do it   \n",
       "1  1.0 of 5 bubbles  Used to be good, now terrible.   \n",
       "2  1.0 of 5 bubbles       BAD SERVICE; BAD AIRLINE.   \n",
       "3  1.0 of 5 bubbles   Scam airlines - worse than VJ   \n",
       "4  1.0 of 5 bubbles                      Avoid them   \n",
       "\n",
       "                                         Full Review  \\\n",
       "0  Never again, 1st and last. \\nFlight was booked...   \n",
       "1  When this airline first started it was a very ...   \n",
       "2  My original flight is starting at 15:10 then t...   \n",
       "3  Scam airline for sure. They make a lot of mone...   \n",
       "4  Worst company and customer service. Stay clear...   \n",
       "\n",
       "                  Information  \\\n",
       "0  Date of travel: March 2025   \n",
       "1  Date of travel: March 2025   \n",
       "2  Date of travel: March 2025   \n",
       "3  Date of travel: March 2025   \n",
       "4  Date of travel: March 2025   \n",
       "\n",
       "                                     Service Ratings  \n",
       "0  [{'Service Rating': '2.0 of 5 bubbles', 'Servi...  \n",
       "1                                                NaN  \n",
       "2                                                NaN  \n",
       "3                                                NaN  \n",
       "4                                                NaN  "
      ]
     },
     "execution_count": 16,
     "metadata": {},
     "output_type": "execute_result"
    }
   ],
   "source": [
    "df = pd.read_csv(os.path.join(RAW_PATH, \"bamboo_all_reviews_data.csv\"))\n",
    "df.head(5)"
   ]
  },
  {
   "cell_type": "code",
   "execution_count": 17,
   "metadata": {},
   "outputs": [
    {
     "data": {
      "text/plain": [
       "(349, 5)"
      ]
     },
     "execution_count": 17,
     "metadata": {},
     "output_type": "execute_result"
    }
   ],
   "source": [
    "df.shape"
   ]
  },
  {
   "cell_type": "code",
   "execution_count": 18,
   "metadata": {},
   "outputs": [
    {
     "data": {
      "text/plain": [
       "Index(['Rating', 'Title', 'Full Review', 'Information', 'Service Ratings'], dtype='object')"
      ]
     },
     "execution_count": 18,
     "metadata": {},
     "output_type": "execute_result"
    }
   ],
   "source": [
    "df.columns"
   ]
  },
  {
   "cell_type": "code",
   "execution_count": 19,
   "metadata": {},
   "outputs": [
    {
     "data": {
      "text/plain": [
       "Rating             object\n",
       "Title              object\n",
       "Full Review        object\n",
       "Information        object\n",
       "Service Ratings    object\n",
       "dtype: object"
      ]
     },
     "execution_count": 19,
     "metadata": {},
     "output_type": "execute_result"
    }
   ],
   "source": [
    "df.dtypes"
   ]
  },
  {
   "cell_type": "code",
   "execution_count": 20,
   "metadata": {},
   "outputs": [
    {
     "data": {
      "text/plain": [
       "Rating               0\n",
       "Title                0\n",
       "Full Review          0\n",
       "Information          8\n",
       "Service Ratings    183\n",
       "dtype: int64"
      ]
     },
     "execution_count": 20,
     "metadata": {},
     "output_type": "execute_result"
    }
   ],
   "source": [
    "df.isnull().sum()"
   ]
  },
  {
   "cell_type": "markdown",
   "metadata": {},
   "source": [
    "> File vj_all_reviews_data.csv"
   ]
  },
  {
   "cell_type": "code",
   "execution_count": 21,
   "metadata": {},
   "outputs": [
    {
     "data": {
      "text/html": [
       "<div>\n",
       "<style scoped>\n",
       "    .dataframe tbody tr th:only-of-type {\n",
       "        vertical-align: middle;\n",
       "    }\n",
       "\n",
       "    .dataframe tbody tr th {\n",
       "        vertical-align: top;\n",
       "    }\n",
       "\n",
       "    .dataframe thead th {\n",
       "        text-align: right;\n",
       "    }\n",
       "</style>\n",
       "<table border=\"1\" class=\"dataframe\">\n",
       "  <thead>\n",
       "    <tr style=\"text-align: right;\">\n",
       "      <th></th>\n",
       "      <th>Rating</th>\n",
       "      <th>Title</th>\n",
       "      <th>Full Review</th>\n",
       "      <th>Information</th>\n",
       "      <th>Service Ratings</th>\n",
       "    </tr>\n",
       "  </thead>\n",
       "  <tbody>\n",
       "    <tr>\n",
       "      <th>0</th>\n",
       "      <td>1.0 of 5 bubbles</td>\n",
       "      <td>Never fly with this airline again</td>\n",
       "      <td>They weight your carry on at very last minute ...</td>\n",
       "      <td>Date of travel: March 2025</td>\n",
       "      <td>NaN</td>\n",
       "    </tr>\n",
       "    <tr>\n",
       "      <th>1</th>\n",
       "      <td>1.0 of 5 bubbles</td>\n",
       "      <td>Worse flight experience</td>\n",
       "      <td>Worse experience, they made my last memory of ...</td>\n",
       "      <td>Date of travel: March 2025</td>\n",
       "      <td>[{'Service Rating': '2.0 of 5 bubbles', 'Servi...</td>\n",
       "    </tr>\n",
       "    <tr>\n",
       "      <th>2</th>\n",
       "      <td>1.0 of 5 bubbles</td>\n",
       "      <td>Awful</td>\n",
       "      <td>Awful experience, the flight was first delayed...</td>\n",
       "      <td>Date of travel: March 2025</td>\n",
       "      <td>[{'Service Rating': '3.0 of 5 bubbles', 'Servi...</td>\n",
       "    </tr>\n",
       "    <tr>\n",
       "      <th>3</th>\n",
       "      <td>1.0 of 5 bubbles</td>\n",
       "      <td>Flight cancelled a day prior with no warning w...</td>\n",
       "      <td>Flight cancelled the day before departure with...</td>\n",
       "      <td>Date of travel: February 2025</td>\n",
       "      <td>NaN</td>\n",
       "    </tr>\n",
       "    <tr>\n",
       "      <th>4</th>\n",
       "      <td>5.0 of 5 bubbles</td>\n",
       "      <td>Great experience with a local airline…</td>\n",
       "      <td>Had nothing but a positive experience \\n\\nAll ...</td>\n",
       "      <td>Date of travel: March 2025</td>\n",
       "      <td>[{'Service Rating': '5.0 of 5 bubbles', 'Servi...</td>\n",
       "    </tr>\n",
       "  </tbody>\n",
       "</table>\n",
       "</div>"
      ],
      "text/plain": [
       "             Rating                                              Title  \\\n",
       "0  1.0 of 5 bubbles                  Never fly with this airline again   \n",
       "1  1.0 of 5 bubbles                            Worse flight experience   \n",
       "2  1.0 of 5 bubbles                                              Awful   \n",
       "3  1.0 of 5 bubbles  Flight cancelled a day prior with no warning w...   \n",
       "4  5.0 of 5 bubbles             Great experience with a local airline…   \n",
       "\n",
       "                                         Full Review  \\\n",
       "0  They weight your carry on at very last minute ...   \n",
       "1  Worse experience, they made my last memory of ...   \n",
       "2  Awful experience, the flight was first delayed...   \n",
       "3  Flight cancelled the day before departure with...   \n",
       "4  Had nothing but a positive experience \\n\\nAll ...   \n",
       "\n",
       "                     Information  \\\n",
       "0     Date of travel: March 2025   \n",
       "1     Date of travel: March 2025   \n",
       "2     Date of travel: March 2025   \n",
       "3  Date of travel: February 2025   \n",
       "4     Date of travel: March 2025   \n",
       "\n",
       "                                     Service Ratings  \n",
       "0                                                NaN  \n",
       "1  [{'Service Rating': '2.0 of 5 bubbles', 'Servi...  \n",
       "2  [{'Service Rating': '3.0 of 5 bubbles', 'Servi...  \n",
       "3                                                NaN  \n",
       "4  [{'Service Rating': '5.0 of 5 bubbles', 'Servi...  "
      ]
     },
     "execution_count": 21,
     "metadata": {},
     "output_type": "execute_result"
    }
   ],
   "source": [
    "df = pd.read_csv(os.path.join(RAW_PATH, \"vj_all_reviews_data.csv\"))\n",
    "df.head(5)"
   ]
  },
  {
   "cell_type": "code",
   "execution_count": 22,
   "metadata": {},
   "outputs": [
    {
     "data": {
      "text/plain": [
       "(4215, 5)"
      ]
     },
     "execution_count": 22,
     "metadata": {},
     "output_type": "execute_result"
    }
   ],
   "source": [
    "df.shape"
   ]
  },
  {
   "cell_type": "code",
   "execution_count": 23,
   "metadata": {},
   "outputs": [
    {
     "data": {
      "text/plain": [
       "Index(['Rating', 'Title', 'Full Review', 'Information', 'Service Ratings'], dtype='object')"
      ]
     },
     "execution_count": 23,
     "metadata": {},
     "output_type": "execute_result"
    }
   ],
   "source": [
    "df.columns"
   ]
  },
  {
   "cell_type": "code",
   "execution_count": 24,
   "metadata": {},
   "outputs": [
    {
     "data": {
      "text/plain": [
       "Rating             object\n",
       "Title              object\n",
       "Full Review        object\n",
       "Information        object\n",
       "Service Ratings    object\n",
       "dtype: object"
      ]
     },
     "execution_count": 24,
     "metadata": {},
     "output_type": "execute_result"
    }
   ],
   "source": [
    "df.dtypes"
   ]
  },
  {
   "cell_type": "code",
   "execution_count": 25,
   "metadata": {},
   "outputs": [
    {
     "data": {
      "text/plain": [
       "Rating                0\n",
       "Title                 0\n",
       "Full Review           0\n",
       "Information         269\n",
       "Service Ratings    1485\n",
       "dtype: int64"
      ]
     },
     "execution_count": 25,
     "metadata": {},
     "output_type": "execute_result"
    }
   ],
   "source": [
    "df.isnull().sum()"
   ]
  },
  {
   "cell_type": "markdown",
   "metadata": {},
   "source": [
    "> File vna_all_reviews_data.csv"
   ]
  },
  {
   "cell_type": "code",
   "execution_count": 26,
   "metadata": {},
   "outputs": [
    {
     "data": {
      "text/html": [
       "<div>\n",
       "<style scoped>\n",
       "    .dataframe tbody tr th:only-of-type {\n",
       "        vertical-align: middle;\n",
       "    }\n",
       "\n",
       "    .dataframe tbody tr th {\n",
       "        vertical-align: top;\n",
       "    }\n",
       "\n",
       "    .dataframe thead th {\n",
       "        text-align: right;\n",
       "    }\n",
       "</style>\n",
       "<table border=\"1\" class=\"dataframe\">\n",
       "  <thead>\n",
       "    <tr style=\"text-align: right;\">\n",
       "      <th></th>\n",
       "      <th>Rating</th>\n",
       "      <th>Title</th>\n",
       "      <th>Full Review</th>\n",
       "      <th>Information</th>\n",
       "      <th>Service Ratings</th>\n",
       "    </tr>\n",
       "  </thead>\n",
       "  <tbody>\n",
       "    <tr>\n",
       "      <th>0</th>\n",
       "      <td>5.0 of 5 bubbles</td>\n",
       "      <td>Took Care of Us in Difficult Situation</td>\n",
       "      <td>I was a little worried when we had an equipmen...</td>\n",
       "      <td>Date of travel: March 2025</td>\n",
       "      <td>[{'Service Rating': '5.0 of 5 bubbles', 'Servi...</td>\n",
       "    </tr>\n",
       "    <tr>\n",
       "      <th>1</th>\n",
       "      <td>1.0 of 5 bubbles</td>\n",
       "      <td>Vietnam Airlines Experience Poor</td>\n",
       "      <td>Checkin service staff at Saigon where rude, un...</td>\n",
       "      <td>Date of travel: March 2025</td>\n",
       "      <td>NaN</td>\n",
       "    </tr>\n",
       "    <tr>\n",
       "      <th>2</th>\n",
       "      <td>5.0 of 5 bubbles</td>\n",
       "      <td>passport show no month and date of my DOB</td>\n",
       "      <td>hello friends \\ni have my vietnam passport but...</td>\n",
       "      <td>Date of travel: March 2025</td>\n",
       "      <td>[{'Service Rating': '1.0 of 5 bubbles', 'Servi...</td>\n",
       "    </tr>\n",
       "    <tr>\n",
       "      <th>3</th>\n",
       "      <td>4.0 of 5 bubbles</td>\n",
       "      <td>A Good Airline</td>\n",
       "      <td>The plane was clean, the seating was comfortab...</td>\n",
       "      <td>Date of travel: March 2025</td>\n",
       "      <td>[{'Service Rating': '5.0 of 5 bubbles', 'Servi...</td>\n",
       "    </tr>\n",
       "    <tr>\n",
       "      <th>4</th>\n",
       "      <td>1.0 of 5 bubbles</td>\n",
       "      <td>Not worth it.</td>\n",
       "      <td>Wort experience ever. The food was terrible on...</td>\n",
       "      <td>Date of travel: March 2025</td>\n",
       "      <td>[{'Service Rating': '3.0 of 5 bubbles', 'Servi...</td>\n",
       "    </tr>\n",
       "  </tbody>\n",
       "</table>\n",
       "</div>"
      ],
      "text/plain": [
       "             Rating                                      Title  \\\n",
       "0  5.0 of 5 bubbles     Took Care of Us in Difficult Situation   \n",
       "1  1.0 of 5 bubbles           Vietnam Airlines Experience Poor   \n",
       "2  5.0 of 5 bubbles  passport show no month and date of my DOB   \n",
       "3  4.0 of 5 bubbles                             A Good Airline   \n",
       "4  1.0 of 5 bubbles                              Not worth it.   \n",
       "\n",
       "                                         Full Review  \\\n",
       "0  I was a little worried when we had an equipmen...   \n",
       "1  Checkin service staff at Saigon where rude, un...   \n",
       "2  hello friends \\ni have my vietnam passport but...   \n",
       "3  The plane was clean, the seating was comfortab...   \n",
       "4  Wort experience ever. The food was terrible on...   \n",
       "\n",
       "                  Information  \\\n",
       "0  Date of travel: March 2025   \n",
       "1  Date of travel: March 2025   \n",
       "2  Date of travel: March 2025   \n",
       "3  Date of travel: March 2025   \n",
       "4  Date of travel: March 2025   \n",
       "\n",
       "                                     Service Ratings  \n",
       "0  [{'Service Rating': '5.0 of 5 bubbles', 'Servi...  \n",
       "1                                                NaN  \n",
       "2  [{'Service Rating': '1.0 of 5 bubbles', 'Servi...  \n",
       "3  [{'Service Rating': '5.0 of 5 bubbles', 'Servi...  \n",
       "4  [{'Service Rating': '3.0 of 5 bubbles', 'Servi...  "
      ]
     },
     "execution_count": 26,
     "metadata": {},
     "output_type": "execute_result"
    }
   ],
   "source": [
    "df = pd.read_csv(os.path.join(RAW_PATH, \"vna_all_reviews_data.csv\"))\n",
    "df.head(5)"
   ]
  },
  {
   "cell_type": "code",
   "execution_count": 27,
   "metadata": {},
   "outputs": [
    {
     "data": {
      "text/plain": [
       "(5029, 5)"
      ]
     },
     "execution_count": 27,
     "metadata": {},
     "output_type": "execute_result"
    }
   ],
   "source": [
    "df.shape"
   ]
  },
  {
   "cell_type": "code",
   "execution_count": 28,
   "metadata": {},
   "outputs": [
    {
     "data": {
      "text/plain": [
       "Index(['Rating', 'Title', 'Full Review', 'Information', 'Service Ratings'], dtype='object')"
      ]
     },
     "execution_count": 28,
     "metadata": {},
     "output_type": "execute_result"
    }
   ],
   "source": [
    "df.columns"
   ]
  },
  {
   "cell_type": "code",
   "execution_count": 29,
   "metadata": {},
   "outputs": [
    {
     "data": {
      "text/plain": [
       "Rating             object\n",
       "Title              object\n",
       "Full Review        object\n",
       "Information        object\n",
       "Service Ratings    object\n",
       "dtype: object"
      ]
     },
     "execution_count": 29,
     "metadata": {},
     "output_type": "execute_result"
    }
   ],
   "source": [
    "df.dtypes"
   ]
  },
  {
   "cell_type": "code",
   "execution_count": 30,
   "metadata": {},
   "outputs": [
    {
     "data": {
      "text/plain": [
       "Rating                0\n",
       "Title                 0\n",
       "Full Review           0\n",
       "Information         254\n",
       "Service Ratings    1165\n",
       "dtype: int64"
      ]
     },
     "execution_count": 30,
     "metadata": {},
     "output_type": "execute_result"
    }
   ],
   "source": [
    "df.isnull().sum()"
   ]
  }
 ],
 "metadata": {
  "kernelspec": {
   "display_name": "Python 3",
   "language": "python",
   "name": "python3"
  },
  "language_info": {
   "codemirror_mode": {
    "name": "ipython",
    "version": 3
   },
   "file_extension": ".py",
   "mimetype": "text/x-python",
   "name": "python",
   "nbconvert_exporter": "python",
   "pygments_lexer": "ipython3",
   "version": "3.11.1"
  }
 },
 "nbformat": 4,
 "nbformat_minor": 2
}
