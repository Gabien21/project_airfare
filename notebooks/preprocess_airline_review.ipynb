{
 "cells": [
  {
   "cell_type": "markdown",
   "metadata": {},
   "source": [
    "# Preprocess Airline General Information"
   ]
  },
  {
   "cell_type": "code",
   "execution_count": null,
   "metadata": {},
   "outputs": [],
   "source": [
    "from sqlalchemy import create_engine\n",
    "import pandas as pd\n",
    "import re\n",
    "import json\n",
    "import os \n",
    "from datetime import datetime"
   ]
  },
  {
   "cell_type": "code",
   "execution_count": null,
   "metadata": {},
   "outputs": [],
   "source": [
    "RAW_PATH = \"../data/raw\"\n",
    "CLEAN_PATH = \"../data/clean\"\n",
    "os.makedirs(CLEAN_PATH, exist_ok=True)"
   ]
  },
  {
   "cell_type": "markdown",
   "metadata": {},
   "source": [
    "## 1. Read general information"
   ]
  },
  {
   "cell_type": "code",
   "execution_count": null,
   "metadata": {},
   "outputs": [],
   "source": [
    "vj_path = \"vj_general_info.txt\"\n",
    "vna_path = \"vna_general_info.txt\"\n",
    "bam_path = \"bamboo_general_info.txt\""
   ]
  },
  {
   "cell_type": "markdown",
   "metadata": {},
   "source": [
    "### VietJetAir information"
   ]
  },
  {
   "cell_type": "code",
   "execution_count": null,
   "metadata": {},
   "outputs": [],
   "source": [
    "with open(f\"{RAW_PATH}/{vj_path}\") as file:\n",
    "    lines = file.readlines()\n",
    "all_vj_text = ''.join(lines)\n",
    "print(all_vj_text)"
   ]
  },
  {
   "cell_type": "markdown",
   "metadata": {},
   "source": [
    "### Vietnam Airlines information"
   ]
  },
  {
   "cell_type": "code",
   "execution_count": null,
   "metadata": {},
   "outputs": [],
   "source": [
    "with open(f\"{RAW_PATH}/{vna_path}\") as file:\n",
    "    lines = file.readlines()\n",
    "all_vna_text = ''.join(lines)\n",
    "print(all_vna_text)"
   ]
  },
  {
   "cell_type": "markdown",
   "metadata": {},
   "source": [
    "### Bamboo Airways information"
   ]
  },
  {
   "cell_type": "code",
   "execution_count": null,
   "metadata": {},
   "outputs": [],
   "source": [
    "with open(f\"{RAW_PATH}/{bam_path}\") as file:\n",
    "    lines = file.readlines()\n",
    "all_bam_text = ''.join(lines)\n",
    "print(all_bam_text)"
   ]
  },
  {
   "cell_type": "markdown",
   "metadata": {},
   "source": [
    "## 2. Extract text and convert into DataFrame"
   ]
  },
  {
   "cell_type": "code",
   "execution_count": null,
   "metadata": {},
   "outputs": [],
   "source": [
    "def extract_info(original_path, file_name, airline_dict):\n",
    "    print(file_name)\n",
    "    with open(f\"{original_path}/{file_name}\", \"r\") as file:\n",
    "        all_text = file.read()\n",
    "\n",
    "    name = re.search(r\"Name: (.+)\\n\", all_text)\n",
    "    airline_dict[\"name\"].append(name.group(1) if name else None)\n",
    "\n",
    "\n",
    "    phone = re.search(r\"Phone: ([\\d\\s]+)\\n\", all_text)\n",
    "    airline_dict[\"phone\"].append(phone.group(1) if phone else None)\n",
    "\n",
    "\n",
    "    address = re.search(r\"Headquarters: (.+)\\n\", all_text)\n",
    "    airline_dict[\"address\"].append(address.group(1) if address else None)\n",
    "\n",
    "    website  = re.search(r\"Website: (.+)\\n\", all_text)\n",
    "    airline_dict[\"website\"].append(website.group(1) if website else None)\n",
    "\n",
    "    avg_rating = re.search(r\"Average Rating: ([\\d.]+)\\n\", all_text)\n",
    "    airline_dict[\"averating_rating\"].append(float(avg_rating.group(1)) if avg_rating else None)\n",
    "\n",
    "\n",
    "    total_review = re.search(r\"Total Review: ([\\d,]+) reviews\\n\", all_text)\n",
    "    airline_dict[\"total_review\"].append(int(total_review.group(1).replace(',', '')) if total_review else None)\n",
    "\n",
    "\n",
    "    popular_mention = re.search(r\"Popular Mention: \\[(.+)\\]\", all_text)\n",
    "    if popular_mention:\n",
    "        popular_mention = re.sub(\"'\",\"\",popular_mention.group(1))\n",
    "        airline_dict[\"popular_mention\"].append(popular_mention.split(\", \"))\n",
    "    else :\n",
    "        airline_dict[\"popular_mention\"].append([])\n",
    "        \n",
    "    attributes = re.search(r\"Attributes: (.+)\", all_text)\n",
    "    if attributes:\n",
    "        attributes_text = attributes.group(1)\n",
    "        attributes_text = attributes_text.replace(\"'\", \"\\\"\")  \n",
    "        airline_dict[\"attributes\"].append(json.loads(attributes_text))\n",
    "    else:\n",
    "        airline_dict[\"attributes\"].append({})\n",
    "\n",
    "    detail_rate = re.search(r\"Total Rating: (.+)\", all_text)\n",
    "    if detail_rate:\n",
    "        detail_rate_text = detail_rate.group(1)\n",
    "        detail_rate_text = detail_rate_text.replace(\"'\", \"\\\"\") \n",
    "        airline_dict[\"rating\"].append(json.loads(detail_rate_text))\n",
    "    else:\n",
    "        airline_dict[\"rating\"].append({})\n",
    "\n",
    "    return\n",
    "\n",
    "\n",
    "info_headers = ['name', 'phone', 'address','website','averating_rating', 'total_review','popular_mention','attributes', 'rating']\n",
    "airline_dict = {}\n",
    "for header in info_headers:\n",
    "    airline_dict[header] = []\n",
    "\n",
    "for file in [vj_path, vna_path, bam_path]: \n",
    "    extract_info(RAW_PATH,file,airline_dict)"
   ]
  },
  {
   "cell_type": "code",
   "execution_count": null,
   "metadata": {},
   "outputs": [],
   "source": [
    "airline_df = pd.DataFrame(airline_dict)\n",
    "airline_df"
   ]
  },
  {
   "cell_type": "markdown",
   "metadata": {},
   "source": [
    "## 3. Extract Airline Information Table"
   ]
  },
  {
   "cell_type": "code",
   "execution_count": null,
   "metadata": {},
   "outputs": [],
   "source": [
    "airline_info_df = airline_df[['name','phone', 'address','website','averating_rating','total_review']]\n",
    "airline_info_df"
   ]
  },
  {
   "cell_type": "markdown",
   "metadata": {},
   "source": [
    "## 4. Extract Popular Mention Table"
   ]
  },
  {
   "cell_type": "code",
   "execution_count": null,
   "metadata": {},
   "outputs": [],
   "source": [
    "mention_df = airline_df[['name', 'popular_mention']].copy()\n",
    "mention_df['airline_id'] = mention_df['name'].apply(lambda x: airline_info_df.loc[x == mention_df['name']].index[0])\n",
    "mention_df.drop('name', axis=1, inplace=True)\n",
    "\n",
    "mention_df = mention_df.explode('popular_mention', ignore_index=True)\n",
    "mention_df"
   ]
  },
  {
   "cell_type": "markdown",
   "metadata": {},
   "source": [
    "## 5. Extract Rating Table"
   ]
  },
  {
   "cell_type": "code",
   "execution_count": null,
   "metadata": {},
   "outputs": [],
   "source": [
    "rating_df = airline_df[['name','rating']].copy()\n",
    "rating_df['airline_id'] = rating_df['name'].apply(lambda x : airline_info_df.loc[x == rating_df['name']].index[0])\n",
    "rating_df.drop('name',axis=1,inplace=True)\n",
    "all_sub_dfs = []\n",
    "for _,row in rating_df.iterrows():\n",
    "    sub_df = pd.DataFrame([{'airline_id': row['airline_id'], 'rate_name': rate_name, 'count': count} for rate_name, count in row['rating'].items()])\n",
    "    all_sub_dfs.append(sub_df)\n",
    "\n",
    "final_rating_df = pd.concat(all_sub_dfs, ignore_index=True)\n",
    "\n",
    "\n",
    "final_rating_df"
   ]
  },
  {
   "cell_type": "markdown",
   "metadata": {},
   "source": [
    "## 6. Extract Attribute Table"
   ]
  },
  {
   "cell_type": "code",
   "execution_count": null,
   "metadata": {},
   "outputs": [],
   "source": [
    "attribute_df = airline_df[['name','attributes']].copy()\n",
    "attribute_df['airline_id'] = attribute_df['name'].apply(lambda x : airline_info_df.loc[x == attribute_df['name']].index[0])\n",
    "attribute_df.drop('name',axis=1,inplace=True)\n",
    "all_sub_attr_dfs = []\n",
    "for _,row in attribute_df.iterrows():\n",
    "    sub_df = pd.DataFrame([{'airline_id': row['airline_id'], 'attribute_name': attribute_name, 'rating': rate} for attribute_name, rate in row['attributes'].items()])\n",
    "    all_sub_attr_dfs.append(sub_df)\n",
    "\n",
    "final_attribute_df = pd.concat(all_sub_attr_dfs, ignore_index=True)\n",
    "\n",
    "final_attribute_df['rating'] = final_attribute_df['rating'].apply(lambda x: float(re.search(r\"(\\d\\.\\d) of\",x).group(1)))\n",
    "final_attribute_df"
   ]
  },
  {
   "cell_type": "markdown",
   "metadata": {},
   "source": [
    "# Save all clean DataFrame"
   ]
  },
  {
   "cell_type": "code",
   "execution_count": null,
   "metadata": {},
   "outputs": [],
   "source": [
    "final_attribute_df.to_csv(f\"{CLEAN_PATH}/attribute.csv\")\n",
    "final_rating_df.to_csv(f\"{CLEAN_PATH}/rating.csv\")\n",
    "mention_df.to_csv(f\"{CLEAN_PATH}/mention.csv\")\n",
    "airline_info_df.to_csv(f\"{CLEAN_PATH}/info.csv\")"
   ]
  },
  {
   "cell_type": "markdown",
   "metadata": {},
   "source": [
    "# Insert into Database"
   ]
  },
  {
   "cell_type": "code",
   "execution_count": null,
   "metadata": {},
   "outputs": [],
   "source": [
    "server = \"server\"\n",
    "database = \"db\"\n",
    "username = \"user\"\n",
    "password = \"password\"\n",
    "driver = 17\n",
    "mode = 'append'"
   ]
  },
  {
   "cell_type": "code",
   "execution_count": null,
   "metadata": {},
   "outputs": [],
   "source": [
    "def insert_into_sql_server(df, driver, server, database, username, password, mode, table_name) : \n",
    "    conn_str = f\"mssql+pyodbc://{username}:{password}@{server}/{database}?driver=ODBC+Driver+{driver}+for+SQL+Server\"\n",
    "    engine = create_engine(conn_str)\n",
    "    df.to_sql(name=table_name, con=engine, schema='dbo', if_exists=mode, index=False)"
   ]
  },
  {
   "cell_type": "code",
   "execution_count": null,
   "metadata": {},
   "outputs": [],
   "source": [
    "# insert_into_sql_server(final_attribute_df, driver, server, database, username, password, mode, 'attribute')\n",
    "# insert_into_sql_server(final_rating_df, driver, server, database, username, password, mode, 'rating')\n",
    "# insert_into_sql_server(mention_df, driver, server, database, username, password, mode, 'mention')\n",
    "# insert_into_sql_server(airline_info_df, driver, server, database, username, password, mode, 'info')"
   ]
  },
  {
   "cell_type": "markdown",
   "metadata": {},
   "source": [
    "# Preprocess Review Data"
   ]
  },
  {
   "cell_type": "code",
   "execution_count": 177,
   "metadata": {},
   "outputs": [],
   "source": [
    "vj_review_path = \"vna_all_reviews_data.csv\"\n",
    "vna_review_path = \"vj_all_reviews_data.csv\"\n",
    "bam_review_path = \"bamboo_all_reviews_data.csv\""
   ]
  },
  {
   "cell_type": "markdown",
   "metadata": {},
   "source": [
    "## Read all sub review DataFrames and Combine all DataFrames"
   ]
  },
  {
   "cell_type": "code",
   "execution_count": 207,
   "metadata": {},
   "outputs": [
    {
     "data": {
      "text/html": [
       "<div>\n",
       "<style scoped>\n",
       "    .dataframe tbody tr th:only-of-type {\n",
       "        vertical-align: middle;\n",
       "    }\n",
       "\n",
       "    .dataframe tbody tr th {\n",
       "        vertical-align: top;\n",
       "    }\n",
       "\n",
       "    .dataframe thead th {\n",
       "        text-align: right;\n",
       "    }\n",
       "</style>\n",
       "<table border=\"1\" class=\"dataframe\">\n",
       "  <thead>\n",
       "    <tr style=\"text-align: right;\">\n",
       "      <th></th>\n",
       "      <th>Rating</th>\n",
       "      <th>Title</th>\n",
       "      <th>Full Review</th>\n",
       "      <th>Information</th>\n",
       "      <th>Service Ratings</th>\n",
       "    </tr>\n",
       "  </thead>\n",
       "  <tbody>\n",
       "    <tr>\n",
       "      <th>0</th>\n",
       "      <td>5.0 of 5 bubbles</td>\n",
       "      <td>Took Care of Us in Difficult Situation</td>\n",
       "      <td>I was a little worried when we had an equipmen...</td>\n",
       "      <td>Date of travel: March 2025</td>\n",
       "      <td>[{'Service Rating': '5.0 of 5 bubbles', 'Servi...</td>\n",
       "    </tr>\n",
       "    <tr>\n",
       "      <th>1</th>\n",
       "      <td>1.0 of 5 bubbles</td>\n",
       "      <td>Vietnam Airlines Experience Poor</td>\n",
       "      <td>Checkin service staff at Saigon where rude, un...</td>\n",
       "      <td>Date of travel: March 2025</td>\n",
       "      <td>NaN</td>\n",
       "    </tr>\n",
       "  </tbody>\n",
       "</table>\n",
       "</div>"
      ],
      "text/plain": [
       "             Rating                                   Title  \\\n",
       "0  5.0 of 5 bubbles  Took Care of Us in Difficult Situation   \n",
       "1  1.0 of 5 bubbles        Vietnam Airlines Experience Poor   \n",
       "\n",
       "                                         Full Review  \\\n",
       "0  I was a little worried when we had an equipmen...   \n",
       "1  Checkin service staff at Saigon where rude, un...   \n",
       "\n",
       "                  Information  \\\n",
       "0  Date of travel: March 2025   \n",
       "1  Date of travel: March 2025   \n",
       "\n",
       "                                     Service Ratings  \n",
       "0  [{'Service Rating': '5.0 of 5 bubbles', 'Servi...  \n",
       "1                                                NaN  "
      ]
     },
     "execution_count": 207,
     "metadata": {},
     "output_type": "execute_result"
    }
   ],
   "source": [
    "vj_review_df = pd.read_csv(f\"{RAW_PATH}/{vj_review_path}\")\n",
    "vj_review_df.head(2)"
   ]
  },
  {
   "cell_type": "code",
   "execution_count": 208,
   "metadata": {},
   "outputs": [
    {
     "data": {
      "text/html": [
       "<div>\n",
       "<style scoped>\n",
       "    .dataframe tbody tr th:only-of-type {\n",
       "        vertical-align: middle;\n",
       "    }\n",
       "\n",
       "    .dataframe tbody tr th {\n",
       "        vertical-align: top;\n",
       "    }\n",
       "\n",
       "    .dataframe thead th {\n",
       "        text-align: right;\n",
       "    }\n",
       "</style>\n",
       "<table border=\"1\" class=\"dataframe\">\n",
       "  <thead>\n",
       "    <tr style=\"text-align: right;\">\n",
       "      <th></th>\n",
       "      <th>Rating</th>\n",
       "      <th>Title</th>\n",
       "      <th>Full Review</th>\n",
       "      <th>Information</th>\n",
       "      <th>Service Ratings</th>\n",
       "    </tr>\n",
       "  </thead>\n",
       "  <tbody>\n",
       "    <tr>\n",
       "      <th>0</th>\n",
       "      <td>1.0 of 5 bubbles</td>\n",
       "      <td>Never fly with this airline again</td>\n",
       "      <td>They weight your carry on at very last minute ...</td>\n",
       "      <td>Date of travel: March 2025</td>\n",
       "      <td>NaN</td>\n",
       "    </tr>\n",
       "    <tr>\n",
       "      <th>1</th>\n",
       "      <td>1.0 of 5 bubbles</td>\n",
       "      <td>Worse flight experience</td>\n",
       "      <td>Worse experience, they made my last memory of ...</td>\n",
       "      <td>Date of travel: March 2025</td>\n",
       "      <td>[{'Service Rating': '2.0 of 5 bubbles', 'Servi...</td>\n",
       "    </tr>\n",
       "  </tbody>\n",
       "</table>\n",
       "</div>"
      ],
      "text/plain": [
       "             Rating                              Title  \\\n",
       "0  1.0 of 5 bubbles  Never fly with this airline again   \n",
       "1  1.0 of 5 bubbles            Worse flight experience   \n",
       "\n",
       "                                         Full Review  \\\n",
       "0  They weight your carry on at very last minute ...   \n",
       "1  Worse experience, they made my last memory of ...   \n",
       "\n",
       "                  Information  \\\n",
       "0  Date of travel: March 2025   \n",
       "1  Date of travel: March 2025   \n",
       "\n",
       "                                     Service Ratings  \n",
       "0                                                NaN  \n",
       "1  [{'Service Rating': '2.0 of 5 bubbles', 'Servi...  "
      ]
     },
     "execution_count": 208,
     "metadata": {},
     "output_type": "execute_result"
    }
   ],
   "source": [
    "vna_review_df = pd.read_csv(f\"{RAW_PATH}/{vna_review_path}\")\n",
    "vna_review_df.head(2)"
   ]
  },
  {
   "cell_type": "code",
   "execution_count": 209,
   "metadata": {},
   "outputs": [
    {
     "data": {
      "text/html": [
       "<div>\n",
       "<style scoped>\n",
       "    .dataframe tbody tr th:only-of-type {\n",
       "        vertical-align: middle;\n",
       "    }\n",
       "\n",
       "    .dataframe tbody tr th {\n",
       "        vertical-align: top;\n",
       "    }\n",
       "\n",
       "    .dataframe thead th {\n",
       "        text-align: right;\n",
       "    }\n",
       "</style>\n",
       "<table border=\"1\" class=\"dataframe\">\n",
       "  <thead>\n",
       "    <tr style=\"text-align: right;\">\n",
       "      <th></th>\n",
       "      <th>Rating</th>\n",
       "      <th>Title</th>\n",
       "      <th>Full Review</th>\n",
       "      <th>Information</th>\n",
       "      <th>Service Ratings</th>\n",
       "    </tr>\n",
       "  </thead>\n",
       "  <tbody>\n",
       "    <tr>\n",
       "      <th>0</th>\n",
       "      <td>1.0 of 5 bubbles</td>\n",
       "      <td>Don't do it</td>\n",
       "      <td>Never again, 1st and last. \\r\\nFlight was book...</td>\n",
       "      <td>Date of travel: March 2025</td>\n",
       "      <td>[{'Service Rating': '2.0 of 5 bubbles', 'Servi...</td>\n",
       "    </tr>\n",
       "    <tr>\n",
       "      <th>1</th>\n",
       "      <td>1.0 of 5 bubbles</td>\n",
       "      <td>Used to be good, now terrible.</td>\n",
       "      <td>When this airline first started it was a very ...</td>\n",
       "      <td>Date of travel: March 2025</td>\n",
       "      <td>NaN</td>\n",
       "    </tr>\n",
       "  </tbody>\n",
       "</table>\n",
       "</div>"
      ],
      "text/plain": [
       "             Rating                           Title  \\\n",
       "0  1.0 of 5 bubbles                     Don't do it   \n",
       "1  1.0 of 5 bubbles  Used to be good, now terrible.   \n",
       "\n",
       "                                         Full Review  \\\n",
       "0  Never again, 1st and last. \\r\\nFlight was book...   \n",
       "1  When this airline first started it was a very ...   \n",
       "\n",
       "                  Information  \\\n",
       "0  Date of travel: March 2025   \n",
       "1  Date of travel: March 2025   \n",
       "\n",
       "                                     Service Ratings  \n",
       "0  [{'Service Rating': '2.0 of 5 bubbles', 'Servi...  \n",
       "1                                                NaN  "
      ]
     },
     "execution_count": 209,
     "metadata": {},
     "output_type": "execute_result"
    }
   ],
   "source": [
    "bam_review_df = pd.read_csv(f\"{RAW_PATH}/{bam_review_path}\")\n",
    "bam_review_df.head(2)"
   ]
  },
  {
   "cell_type": "code",
   "execution_count": 210,
   "metadata": {},
   "outputs": [
    {
     "data": {
      "text/html": [
       "<div>\n",
       "<style scoped>\n",
       "    .dataframe tbody tr th:only-of-type {\n",
       "        vertical-align: middle;\n",
       "    }\n",
       "\n",
       "    .dataframe tbody tr th {\n",
       "        vertical-align: top;\n",
       "    }\n",
       "\n",
       "    .dataframe thead th {\n",
       "        text-align: right;\n",
       "    }\n",
       "</style>\n",
       "<table border=\"1\" class=\"dataframe\">\n",
       "  <thead>\n",
       "    <tr style=\"text-align: right;\">\n",
       "      <th></th>\n",
       "      <th>Rating</th>\n",
       "      <th>Title</th>\n",
       "      <th>Full Review</th>\n",
       "      <th>Information</th>\n",
       "      <th>Service Ratings</th>\n",
       "    </tr>\n",
       "  </thead>\n",
       "  <tbody>\n",
       "    <tr>\n",
       "      <th>0</th>\n",
       "      <td>5.0 of 5 bubbles</td>\n",
       "      <td>Took Care of Us in Difficult Situation</td>\n",
       "      <td>I was a little worried when we had an equipmen...</td>\n",
       "      <td>Date of travel: March 2025</td>\n",
       "      <td>[{'Service Rating': '5.0 of 5 bubbles', 'Servi...</td>\n",
       "    </tr>\n",
       "    <tr>\n",
       "      <th>1</th>\n",
       "      <td>1.0 of 5 bubbles</td>\n",
       "      <td>Vietnam Airlines Experience Poor</td>\n",
       "      <td>Checkin service staff at Saigon where rude, un...</td>\n",
       "      <td>Date of travel: March 2025</td>\n",
       "      <td>NaN</td>\n",
       "    </tr>\n",
       "    <tr>\n",
       "      <th>2</th>\n",
       "      <td>5.0 of 5 bubbles</td>\n",
       "      <td>passport show no month and date of my DOB</td>\n",
       "      <td>hello friends \\r\\ni have my vietnam passport b...</td>\n",
       "      <td>Date of travel: March 2025</td>\n",
       "      <td>[{'Service Rating': '1.0 of 5 bubbles', 'Servi...</td>\n",
       "    </tr>\n",
       "    <tr>\n",
       "      <th>3</th>\n",
       "      <td>4.0 of 5 bubbles</td>\n",
       "      <td>A Good Airline</td>\n",
       "      <td>The plane was clean, the seating was comfortab...</td>\n",
       "      <td>Date of travel: March 2025</td>\n",
       "      <td>[{'Service Rating': '5.0 of 5 bubbles', 'Servi...</td>\n",
       "    </tr>\n",
       "    <tr>\n",
       "      <th>4</th>\n",
       "      <td>1.0 of 5 bubbles</td>\n",
       "      <td>Not worth it.</td>\n",
       "      <td>Wort experience ever. The food was terrible on...</td>\n",
       "      <td>Date of travel: March 2025</td>\n",
       "      <td>[{'Service Rating': '3.0 of 5 bubbles', 'Servi...</td>\n",
       "    </tr>\n",
       "  </tbody>\n",
       "</table>\n",
       "</div>"
      ],
      "text/plain": [
       "             Rating                                      Title  \\\n",
       "0  5.0 of 5 bubbles     Took Care of Us in Difficult Situation   \n",
       "1  1.0 of 5 bubbles           Vietnam Airlines Experience Poor   \n",
       "2  5.0 of 5 bubbles  passport show no month and date of my DOB   \n",
       "3  4.0 of 5 bubbles                             A Good Airline   \n",
       "4  1.0 of 5 bubbles                              Not worth it.   \n",
       "\n",
       "                                         Full Review  \\\n",
       "0  I was a little worried when we had an equipmen...   \n",
       "1  Checkin service staff at Saigon where rude, un...   \n",
       "2  hello friends \\r\\ni have my vietnam passport b...   \n",
       "3  The plane was clean, the seating was comfortab...   \n",
       "4  Wort experience ever. The food was terrible on...   \n",
       "\n",
       "                  Information  \\\n",
       "0  Date of travel: March 2025   \n",
       "1  Date of travel: March 2025   \n",
       "2  Date of travel: March 2025   \n",
       "3  Date of travel: March 2025   \n",
       "4  Date of travel: March 2025   \n",
       "\n",
       "                                     Service Ratings  \n",
       "0  [{'Service Rating': '5.0 of 5 bubbles', 'Servi...  \n",
       "1                                                NaN  \n",
       "2  [{'Service Rating': '1.0 of 5 bubbles', 'Servi...  \n",
       "3  [{'Service Rating': '5.0 of 5 bubbles', 'Servi...  \n",
       "4  [{'Service Rating': '3.0 of 5 bubbles', 'Servi...  "
      ]
     },
     "execution_count": 210,
     "metadata": {},
     "output_type": "execute_result"
    }
   ],
   "source": [
    "combined_df = pd.concat([vj_review_df, vna_review_df, bam_review_df], ignore_index=True)\n",
    "combined_df.head()"
   ]
  },
  {
   "cell_type": "code",
   "execution_count": 211,
   "metadata": {},
   "outputs": [
    {
     "data": {
      "text/html": [
       "<div>\n",
       "<style scoped>\n",
       "    .dataframe tbody tr th:only-of-type {\n",
       "        vertical-align: middle;\n",
       "    }\n",
       "\n",
       "    .dataframe tbody tr th {\n",
       "        vertical-align: top;\n",
       "    }\n",
       "\n",
       "    .dataframe thead th {\n",
       "        text-align: right;\n",
       "    }\n",
       "</style>\n",
       "<table border=\"1\" class=\"dataframe\">\n",
       "  <thead>\n",
       "    <tr style=\"text-align: right;\">\n",
       "      <th></th>\n",
       "      <th>Rating</th>\n",
       "      <th>Title</th>\n",
       "      <th>Full Review</th>\n",
       "      <th>Information</th>\n",
       "      <th>Service Ratings</th>\n",
       "    </tr>\n",
       "  </thead>\n",
       "  <tbody>\n",
       "    <tr>\n",
       "      <th>0</th>\n",
       "      <td>5.0 of 5 bubbles</td>\n",
       "      <td>Took Care of Us in Difficult Situation</td>\n",
       "      <td>I was a little worried when we had an equipmen...</td>\n",
       "      <td>Date of travel: March 2025</td>\n",
       "      <td>[{'Service Rating': '5.0 of 5 bubbles', 'Servi...</td>\n",
       "    </tr>\n",
       "    <tr>\n",
       "      <th>1</th>\n",
       "      <td>1.0 of 5 bubbles</td>\n",
       "      <td>Vietnam Airlines Experience Poor</td>\n",
       "      <td>Checkin service staff at Saigon where rude, un...</td>\n",
       "      <td>Date of travel: March 2025</td>\n",
       "      <td>NaN</td>\n",
       "    </tr>\n",
       "    <tr>\n",
       "      <th>2</th>\n",
       "      <td>5.0 of 5 bubbles</td>\n",
       "      <td>passport show no month and date of my DOB</td>\n",
       "      <td>hello friends \\r\\ni have my vietnam passport b...</td>\n",
       "      <td>Date of travel: March 2025</td>\n",
       "      <td>[{'Service Rating': '1.0 of 5 bubbles', 'Servi...</td>\n",
       "    </tr>\n",
       "    <tr>\n",
       "      <th>3</th>\n",
       "      <td>4.0 of 5 bubbles</td>\n",
       "      <td>A Good Airline</td>\n",
       "      <td>The plane was clean, the seating was comfortab...</td>\n",
       "      <td>Date of travel: March 2025</td>\n",
       "      <td>[{'Service Rating': '5.0 of 5 bubbles', 'Servi...</td>\n",
       "    </tr>\n",
       "    <tr>\n",
       "      <th>4</th>\n",
       "      <td>1.0 of 5 bubbles</td>\n",
       "      <td>Not worth it.</td>\n",
       "      <td>Wort experience ever. The food was terrible on...</td>\n",
       "      <td>Date of travel: March 2025</td>\n",
       "      <td>[{'Service Rating': '3.0 of 5 bubbles', 'Servi...</td>\n",
       "    </tr>\n",
       "    <tr>\n",
       "      <th>...</th>\n",
       "      <td>...</td>\n",
       "      <td>...</td>\n",
       "      <td>...</td>\n",
       "      <td>...</td>\n",
       "      <td>...</td>\n",
       "    </tr>\n",
       "    <tr>\n",
       "      <th>9588</th>\n",
       "      <td>4.0 of 5 bubbles</td>\n",
       "      <td>Good service with the service support of Turki...</td>\n",
       "      <td>Service providing as advertised, friendly and ...</td>\n",
       "      <td>Date of travel: June 2019</td>\n",
       "      <td>NaN</td>\n",
       "    </tr>\n",
       "    <tr>\n",
       "      <th>9589</th>\n",
       "      <td>4.0 of 5 bubbles</td>\n",
       "      <td>Smile staffs, good flight</td>\n",
       "      <td>Our family had a great flight with the airline...</td>\n",
       "      <td>Date of travel: May 2019</td>\n",
       "      <td>[{'Service Rating': '4.0 of 5 bubbles', 'Servi...</td>\n",
       "    </tr>\n",
       "    <tr>\n",
       "      <th>9590</th>\n",
       "      <td>5.0 of 5 bubbles</td>\n",
       "      <td>On time, professional and comfortabe.</td>\n",
       "      <td>Bamboo Airways is the newest airline in Vietna...</td>\n",
       "      <td>Date of travel: June 2019</td>\n",
       "      <td>[{'Service Rating': '4.0 of 5 bubbles', 'Servi...</td>\n",
       "    </tr>\n",
       "    <tr>\n",
       "      <th>9591</th>\n",
       "      <td>4.0 of 5 bubbles</td>\n",
       "      <td>02 Flights with good service</td>\n",
       "      <td>The staffs are very helpful and friendly. But ...</td>\n",
       "      <td>Date of travel: May 2019</td>\n",
       "      <td>[{'Service Rating': '4.0 of 5 bubbles', 'Servi...</td>\n",
       "    </tr>\n",
       "    <tr>\n",
       "      <th>9592</th>\n",
       "      <td>4.0 of 5 bubbles</td>\n",
       "      <td>First time flying with bamboo airways</td>\n",
       "      <td>The flight was alright. It was 20mins delayed....</td>\n",
       "      <td>Date of travel: June 2019</td>\n",
       "      <td>[{'Service Rating': '4.0 of 5 bubbles', 'Servi...</td>\n",
       "    </tr>\n",
       "  </tbody>\n",
       "</table>\n",
       "<p>9593 rows × 5 columns</p>\n",
       "</div>"
      ],
      "text/plain": [
       "                Rating                                              Title  \\\n",
       "0     5.0 of 5 bubbles             Took Care of Us in Difficult Situation   \n",
       "1     1.0 of 5 bubbles                   Vietnam Airlines Experience Poor   \n",
       "2     5.0 of 5 bubbles          passport show no month and date of my DOB   \n",
       "3     4.0 of 5 bubbles                                     A Good Airline   \n",
       "4     1.0 of 5 bubbles                                      Not worth it.   \n",
       "...                ...                                                ...   \n",
       "9588  4.0 of 5 bubbles  Good service with the service support of Turki...   \n",
       "9589  4.0 of 5 bubbles                          Smile staffs, good flight   \n",
       "9590  5.0 of 5 bubbles              On time, professional and comfortabe.   \n",
       "9591  4.0 of 5 bubbles                       02 Flights with good service   \n",
       "9592  4.0 of 5 bubbles              First time flying with bamboo airways   \n",
       "\n",
       "                                            Full Review  \\\n",
       "0     I was a little worried when we had an equipmen...   \n",
       "1     Checkin service staff at Saigon where rude, un...   \n",
       "2     hello friends \\r\\ni have my vietnam passport b...   \n",
       "3     The plane was clean, the seating was comfortab...   \n",
       "4     Wort experience ever. The food was terrible on...   \n",
       "...                                                 ...   \n",
       "9588  Service providing as advertised, friendly and ...   \n",
       "9589  Our family had a great flight with the airline...   \n",
       "9590  Bamboo Airways is the newest airline in Vietna...   \n",
       "9591  The staffs are very helpful and friendly. But ...   \n",
       "9592  The flight was alright. It was 20mins delayed....   \n",
       "\n",
       "                     Information  \\\n",
       "0     Date of travel: March 2025   \n",
       "1     Date of travel: March 2025   \n",
       "2     Date of travel: March 2025   \n",
       "3     Date of travel: March 2025   \n",
       "4     Date of travel: March 2025   \n",
       "...                          ...   \n",
       "9588   Date of travel: June 2019   \n",
       "9589    Date of travel: May 2019   \n",
       "9590   Date of travel: June 2019   \n",
       "9591    Date of travel: May 2019   \n",
       "9592   Date of travel: June 2019   \n",
       "\n",
       "                                        Service Ratings  \n",
       "0     [{'Service Rating': '5.0 of 5 bubbles', 'Servi...  \n",
       "1                                                   NaN  \n",
       "2     [{'Service Rating': '1.0 of 5 bubbles', 'Servi...  \n",
       "3     [{'Service Rating': '5.0 of 5 bubbles', 'Servi...  \n",
       "4     [{'Service Rating': '3.0 of 5 bubbles', 'Servi...  \n",
       "...                                                 ...  \n",
       "9588                                                NaN  \n",
       "9589  [{'Service Rating': '4.0 of 5 bubbles', 'Servi...  \n",
       "9590  [{'Service Rating': '4.0 of 5 bubbles', 'Servi...  \n",
       "9591  [{'Service Rating': '4.0 of 5 bubbles', 'Servi...  \n",
       "9592  [{'Service Rating': '4.0 of 5 bubbles', 'Servi...  \n",
       "\n",
       "[9593 rows x 5 columns]"
      ]
     },
     "execution_count": 211,
     "metadata": {},
     "output_type": "execute_result"
    }
   ],
   "source": [
    "combined_df"
   ]
  },
  {
   "cell_type": "code",
   "execution_count": 212,
   "metadata": {},
   "outputs": [
    {
     "data": {
      "text/html": [
       "<div>\n",
       "<style scoped>\n",
       "    .dataframe tbody tr th:only-of-type {\n",
       "        vertical-align: middle;\n",
       "    }\n",
       "\n",
       "    .dataframe tbody tr th {\n",
       "        vertical-align: top;\n",
       "    }\n",
       "\n",
       "    .dataframe thead th {\n",
       "        text-align: right;\n",
       "    }\n",
       "</style>\n",
       "<table border=\"1\" class=\"dataframe\">\n",
       "  <thead>\n",
       "    <tr style=\"text-align: right;\">\n",
       "      <th></th>\n",
       "      <th>Rating</th>\n",
       "      <th>Title</th>\n",
       "      <th>Full Review</th>\n",
       "      <th>Information</th>\n",
       "      <th>Service Ratings</th>\n",
       "    </tr>\n",
       "  </thead>\n",
       "  <tbody>\n",
       "    <tr>\n",
       "      <th>0</th>\n",
       "      <td>5.0</td>\n",
       "      <td>Took Care of Us in Difficult Situation</td>\n",
       "      <td>I was a little worried when we had an equipmen...</td>\n",
       "      <td>Date of travel: March 2025</td>\n",
       "      <td>[{'Service Rating': '5.0 of 5 bubbles', 'Servi...</td>\n",
       "    </tr>\n",
       "    <tr>\n",
       "      <th>1</th>\n",
       "      <td>1.0</td>\n",
       "      <td>Vietnam Airlines Experience Poor</td>\n",
       "      <td>Checkin service staff at Saigon where rude, un...</td>\n",
       "      <td>Date of travel: March 2025</td>\n",
       "      <td>NaN</td>\n",
       "    </tr>\n",
       "    <tr>\n",
       "      <th>2</th>\n",
       "      <td>5.0</td>\n",
       "      <td>passport show no month and date of my DOB</td>\n",
       "      <td>hello friends \\r\\ni have my vietnam passport b...</td>\n",
       "      <td>Date of travel: March 2025</td>\n",
       "      <td>[{'Service Rating': '1.0 of 5 bubbles', 'Servi...</td>\n",
       "    </tr>\n",
       "    <tr>\n",
       "      <th>3</th>\n",
       "      <td>4.0</td>\n",
       "      <td>A Good Airline</td>\n",
       "      <td>The plane was clean, the seating was comfortab...</td>\n",
       "      <td>Date of travel: March 2025</td>\n",
       "      <td>[{'Service Rating': '5.0 of 5 bubbles', 'Servi...</td>\n",
       "    </tr>\n",
       "    <tr>\n",
       "      <th>4</th>\n",
       "      <td>1.0</td>\n",
       "      <td>Not worth it.</td>\n",
       "      <td>Wort experience ever. The food was terrible on...</td>\n",
       "      <td>Date of travel: March 2025</td>\n",
       "      <td>[{'Service Rating': '3.0 of 5 bubbles', 'Servi...</td>\n",
       "    </tr>\n",
       "  </tbody>\n",
       "</table>\n",
       "</div>"
      ],
      "text/plain": [
       "   Rating                                      Title  \\\n",
       "0     5.0     Took Care of Us in Difficult Situation   \n",
       "1     1.0           Vietnam Airlines Experience Poor   \n",
       "2     5.0  passport show no month and date of my DOB   \n",
       "3     4.0                             A Good Airline   \n",
       "4     1.0                              Not worth it.   \n",
       "\n",
       "                                         Full Review  \\\n",
       "0  I was a little worried when we had an equipmen...   \n",
       "1  Checkin service staff at Saigon where rude, un...   \n",
       "2  hello friends \\r\\ni have my vietnam passport b...   \n",
       "3  The plane was clean, the seating was comfortab...   \n",
       "4  Wort experience ever. The food was terrible on...   \n",
       "\n",
       "                  Information  \\\n",
       "0  Date of travel: March 2025   \n",
       "1  Date of travel: March 2025   \n",
       "2  Date of travel: March 2025   \n",
       "3  Date of travel: March 2025   \n",
       "4  Date of travel: March 2025   \n",
       "\n",
       "                                     Service Ratings  \n",
       "0  [{'Service Rating': '5.0 of 5 bubbles', 'Servi...  \n",
       "1                                                NaN  \n",
       "2  [{'Service Rating': '1.0 of 5 bubbles', 'Servi...  \n",
       "3  [{'Service Rating': '5.0 of 5 bubbles', 'Servi...  \n",
       "4  [{'Service Rating': '3.0 of 5 bubbles', 'Servi...  "
      ]
     },
     "execution_count": 212,
     "metadata": {},
     "output_type": "execute_result"
    }
   ],
   "source": [
    "combined_df['Rating'] = combined_df['Rating'].apply(lambda x: float(re.search(r\"(\\d\\.\\d) of\",x).group(1)))\n",
    "combined_df.head()"
   ]
  },
  {
   "cell_type": "code",
   "execution_count": 213,
   "metadata": {},
   "outputs": [
    {
     "data": {
      "text/html": [
       "<div>\n",
       "<style scoped>\n",
       "    .dataframe tbody tr th:only-of-type {\n",
       "        vertical-align: middle;\n",
       "    }\n",
       "\n",
       "    .dataframe tbody tr th {\n",
       "        vertical-align: top;\n",
       "    }\n",
       "\n",
       "    .dataframe thead th {\n",
       "        text-align: right;\n",
       "    }\n",
       "</style>\n",
       "<table border=\"1\" class=\"dataframe\">\n",
       "  <thead>\n",
       "    <tr style=\"text-align: right;\">\n",
       "      <th></th>\n",
       "      <th>Rating</th>\n",
       "      <th>Title</th>\n",
       "      <th>Full Review</th>\n",
       "      <th>Information</th>\n",
       "      <th>Service Ratings</th>\n",
       "    </tr>\n",
       "  </thead>\n",
       "  <tbody>\n",
       "    <tr>\n",
       "      <th>0</th>\n",
       "      <td>5.0</td>\n",
       "      <td>Took Care of Us in Difficult Situation</td>\n",
       "      <td>I was a little worried when we had an equipmen...</td>\n",
       "      <td>2025-03-01 00:00:00</td>\n",
       "      <td>[{'Service Rating': '5.0 of 5 bubbles', 'Servi...</td>\n",
       "    </tr>\n",
       "    <tr>\n",
       "      <th>1</th>\n",
       "      <td>1.0</td>\n",
       "      <td>Vietnam Airlines Experience Poor</td>\n",
       "      <td>Checkin service staff at Saigon where rude, un...</td>\n",
       "      <td>2025-03-01 00:00:00</td>\n",
       "      <td>NaN</td>\n",
       "    </tr>\n",
       "    <tr>\n",
       "      <th>2</th>\n",
       "      <td>5.0</td>\n",
       "      <td>passport show no month and date of my DOB</td>\n",
       "      <td>hello friends \\r\\ni have my vietnam passport b...</td>\n",
       "      <td>2025-03-01 00:00:00</td>\n",
       "      <td>[{'Service Rating': '1.0 of 5 bubbles', 'Servi...</td>\n",
       "    </tr>\n",
       "    <tr>\n",
       "      <th>3</th>\n",
       "      <td>4.0</td>\n",
       "      <td>A Good Airline</td>\n",
       "      <td>The plane was clean, the seating was comfortab...</td>\n",
       "      <td>2025-03-01 00:00:00</td>\n",
       "      <td>[{'Service Rating': '5.0 of 5 bubbles', 'Servi...</td>\n",
       "    </tr>\n",
       "    <tr>\n",
       "      <th>4</th>\n",
       "      <td>1.0</td>\n",
       "      <td>Not worth it.</td>\n",
       "      <td>Wort experience ever. The food was terrible on...</td>\n",
       "      <td>2025-03-01 00:00:00</td>\n",
       "      <td>[{'Service Rating': '3.0 of 5 bubbles', 'Servi...</td>\n",
       "    </tr>\n",
       "  </tbody>\n",
       "</table>\n",
       "</div>"
      ],
      "text/plain": [
       "   Rating                                      Title  \\\n",
       "0     5.0     Took Care of Us in Difficult Situation   \n",
       "1     1.0           Vietnam Airlines Experience Poor   \n",
       "2     5.0  passport show no month and date of my DOB   \n",
       "3     4.0                             A Good Airline   \n",
       "4     1.0                              Not worth it.   \n",
       "\n",
       "                                         Full Review          Information  \\\n",
       "0  I was a little worried when we had an equipmen...  2025-03-01 00:00:00   \n",
       "1  Checkin service staff at Saigon where rude, un...  2025-03-01 00:00:00   \n",
       "2  hello friends \\r\\ni have my vietnam passport b...  2025-03-01 00:00:00   \n",
       "3  The plane was clean, the seating was comfortab...  2025-03-01 00:00:00   \n",
       "4  Wort experience ever. The food was terrible on...  2025-03-01 00:00:00   \n",
       "\n",
       "                                     Service Ratings  \n",
       "0  [{'Service Rating': '5.0 of 5 bubbles', 'Servi...  \n",
       "1                                                NaN  \n",
       "2  [{'Service Rating': '1.0 of 5 bubbles', 'Servi...  \n",
       "3  [{'Service Rating': '5.0 of 5 bubbles', 'Servi...  \n",
       "4  [{'Service Rating': '3.0 of 5 bubbles', 'Servi...  "
      ]
     },
     "execution_count": 213,
     "metadata": {},
     "output_type": "execute_result"
    }
   ],
   "source": [
    "combined_df.dropna(subset=['Information'],inplace=True,ignore_index=True)\n",
    "combined_df['Information'] = combined_df['Information'].apply(lambda x: datetime.strptime(re.search(r\"Date of travel: (.+)\",x).group(1), \"%B %Y\"))\n",
    "combined_df.head()"
   ]
  },
  {
   "cell_type": "code",
   "execution_count": null,
   "metadata": {},
   "outputs": [],
   "source": [
    "def preprocess(s):\n",
    "    return s"
   ]
  },
  {
   "cell_type": "code",
   "execution_count": null,
   "metadata": {},
   "outputs": [],
   "source": [
    "combined_df['Title'] = combined_df['Title'].apply(lambda x: re.sub())\n",
    "combined_df.head()"
   ]
  },
  {
   "cell_type": "code",
   "execution_count": null,
   "metadata": {},
   "outputs": [],
   "source": []
  }
 ],
 "metadata": {
  "kernelspec": {
   "display_name": "Python 3",
   "language": "python",
   "name": "python3"
  },
  "language_info": {
   "codemirror_mode": {
    "name": "ipython",
    "version": 3
   },
   "file_extension": ".py",
   "mimetype": "text/x-python",
   "name": "python",
   "nbconvert_exporter": "python",
   "pygments_lexer": "ipython3",
   "version": "3.11.9"
  }
 },
 "nbformat": 4,
 "nbformat_minor": 2
}
